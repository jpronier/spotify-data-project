{
 "cells": [
  {
   "cell_type": "code",
   "execution_count": null,
   "id": "87c0cd61",
   "metadata": {},
   "outputs": [],
   "source": [
    "# libraries for Twitter data collection\n",
    "import pandas as pd\n",
    "import tweepy\n",
    "import time\n",
    "from datetime import datetime, timedelta\n",
    "import json\n",
    "import os\n",
    "import pickle\n",
    "import sys"
   ]
  },
  {
   "cell_type": "markdown",
   "id": "a4fc7f0c",
   "metadata": {},
   "source": [
    "### 1st test\n"
   ]
  },
  {
   "cell_type": "code",
   "execution_count": null,
   "id": "ca06b5cc",
   "metadata": {},
   "outputs": [],
   "source": [
    "# Twitter API Configuration\n",
    "\n",
    "BEARER_TOKEN = os.getenv(\"TWITTER_BEARER_TOKEN\")\n",
    "# API_KEY = os.getenv(\"TWITTER_API_KEY\")\n",
    "# API_SECRET = os.getenv(\"TWITTER_API_SECRET\")\n",
    "# ACCESS_TOKEN = os.getenv(\"TWITTER_ACCESS_TOKEN\")\n",
    "# ACCESS_TOKEN_SECRET = os.getenv(\"TWITTER_ACCESS_TOKEN_SECRET\")\n",
    "\n",
    "\n",
    "print(\"API credentials found:\", bool(BEARER_TOKEN))"
   ]
  },
  {
   "cell_type": "code",
   "execution_count": null,
   "id": "25b2902b",
   "metadata": {},
   "outputs": [],
   "source": [
    "# Initialize Twitter API client\n",
    "client = tweepy.Client(bearer_token=BEARER_TOKEN)\n",
    "print(\"Twitter client created successfully\")"
   ]
  },
  {
   "cell_type": "markdown",
   "id": "b52b8a88",
   "metadata": {},
   "source": []
  },
  {
   "cell_type": "code",
   "execution_count": null,
   "id": "fa278468",
   "metadata": {},
   "outputs": [],
   "source": [
    "# Use the same query that worked well\n",
    "tweets_available_new = client.search_recent_tweets(\n",
    "    query='Spotify \"AI DJ\" -#ai -#dj -is:retweet lang:en',\n",
    "    max_results=97,\n",
    "    tweet_fields=[\n",
    "        \"created_at\",\n",
    "        \"public_metrics\",\n",
    "        \"author_id\",\n",
    "        \"lang\",\n",
    "        \"context_annotations\",\n",
    "        \"referenced_tweets\",\n",
    "    ],\n",
    ")\n"
   ]
  },
  {
   "cell_type": "code",
   "execution_count": null,
   "id": "3b5ee7a9",
   "metadata": {},
   "outputs": [],
   "source": [
    "len(tweets_available_new.data)\n"
   ]
  },
  {
   "cell_type": "code",
   "execution_count": null,
   "id": "cb590d3b",
   "metadata": {},
   "outputs": [],
   "source": [
    "for i, tweet in enumerate(tweets_available_new.data[:5]):\n",
    "    print(f\"{i + 1}. {tweet.text[:100]}...\")\n"
   ]
  },
  {
   "cell_type": "markdown",
   "id": "e39e587d",
   "metadata": {},
   "source": [
    "### EDA\n"
   ]
  },
  {
   "cell_type": "code",
   "execution_count": null,
   "id": "7a83d9c8",
   "metadata": {},
   "outputs": [],
   "source": [
    "# Explore tweet object structure\n",
    "first_tweet = tweets_available_new.data[0]\n",
    "print(\"Tweet object type:\", type(first_tweet))\n",
    "print(\"Available attributes:\", dir(first_tweet))\n"
   ]
  },
  {
   "cell_type": "code",
   "execution_count": null,
   "id": "2bd7ac08",
   "metadata": {},
   "outputs": [],
   "source": [
    "# Check what data fields we have\n",
    "print(\"Tweet ID:\", first_tweet.id)\n",
    "print(\"Created at:\", first_tweet.created_at)\n",
    "print(\"Text:\", first_tweet.text[:160] + \" [truncated]\")\n",
    "print(\"Author ID:\", first_tweet.author_id)\n",
    "print(\"Language:\", first_tweet.lang)\n"
   ]
  },
  {
   "cell_type": "code",
   "execution_count": null,
   "id": "ae1ade08",
   "metadata": {},
   "outputs": [],
   "source": [
    "# Check public metrics\n",
    "print(\"Public metrics:\", first_tweet.public_metrics)\n",
    "print(\"Like count:\", first_tweet.public_metrics[\"like_count\"])\n",
    "print(\"Retweet count:\", first_tweet.public_metrics[\"retweet_count\"])\n"
   ]
  },
  {
   "cell_type": "code",
   "execution_count": null,
   "id": "5948a5b2",
   "metadata": {},
   "outputs": [],
   "source": [
    "# Check context annotations (if available)\n",
    "if hasattr(first_tweet, \"context_annotations\") and first_tweet.context_annotations:\n",
    "    print(\"Context annotations:\", first_tweet.context_annotations[:2])\n",
    "else:\n",
    "    print(\"No context annotations available\")\n"
   ]
  },
  {
   "cell_type": "code",
   "execution_count": null,
   "id": "e8dbdac0",
   "metadata": {},
   "outputs": [],
   "source": [
    "# Check data we collected\n",
    "len(tweets_available_new.data)\n"
   ]
  },
  {
   "cell_type": "code",
   "execution_count": null,
   "id": "1c25e735",
   "metadata": {},
   "outputs": [],
   "source": [
    "# Convert tweets to simple structure\n",
    "tweets_list_new = []\n",
    "for tweet in tweets_available_new.data:\n",
    "    tweets_list_new.append(\n",
    "        {\n",
    "            \"id\": tweet.id,\n",
    "            \"text\": tweet.text,\n",
    "            \"author_id\": tweet.author_id,\n",
    "            \"created_at\": tweet.created_at,\n",
    "            \"likes\": tweet.public_metrics[\"like_count\"],\n",
    "            \"retweets\": tweet.public_metrics[\"retweet_count\"],\n",
    "            \"replies\": tweet.public_metrics[\"reply_count\"],\n",
    "        }\n",
    "    )\n"
   ]
  },
  {
   "cell_type": "code",
   "execution_count": null,
   "id": "6cbdb68a",
   "metadata": {},
   "outputs": [],
   "source": [
    "# Create DataFrame\n",
    "df_new = pd.DataFrame(tweets_list_new)\n",
    "df_new.shape\n"
   ]
  },
  {
   "cell_type": "code",
   "execution_count": null,
   "id": "8982d5bb",
   "metadata": {},
   "outputs": [],
   "source": [
    "# Quick overview\n",
    "df_new.head()\n"
   ]
  },
  {
   "cell_type": "code",
   "execution_count": null,
   "id": "a81b8de1",
   "metadata": {},
   "outputs": [],
   "source": [
    "# Save to CSV\n",
    "df_new.to_csv(\"data/extracted/spotify_ai_dj_new_tweets.csv\", index=False)\n"
   ]
  },
  {
   "cell_type": "markdown",
   "id": "0f1c41d7",
   "metadata": {},
   "source": [
    "## Pre-processing for Model\n"
   ]
  },
  {
   "cell_type": "code",
   "execution_count": null,
   "id": "9530cff4",
   "metadata": {},
   "outputs": [],
   "source": [
    "# Test reading the CSV back\n",
    "tweets_df = pd.read_csv(\"data/extracted/spotify_ai_dj_new_tweets.csv\")\n",
    "tweets_df.shape\n"
   ]
  },
  {
   "cell_type": "code",
   "execution_count": null,
   "id": "4e0035e8",
   "metadata": {},
   "outputs": [],
   "source": [
    "# Basic data exploration\n",
    "print(\"Dataset shape:\", tweets_df.shape)\n",
    "print(\"\\nColumns:\", tweets_df.columns.tolist())\n",
    "print(\"\\nDate range:\")\n",
    "print(\"From:\", tweets_df[\"created_at\"].min())\n",
    "print(\"To:\", tweets_df[\"created_at\"].max())\n"
   ]
  },
  {
   "cell_type": "code",
   "execution_count": null,
   "id": "6ac1453d",
   "metadata": {},
   "outputs": [],
   "source": [
    "# Engagement metrics overview\n",
    "tweets_df[[\"likes\", \"retweets\", \"replies\"]].describe()\n"
   ]
  },
  {
   "cell_type": "code",
   "execution_count": null,
   "id": "a55816a2",
   "metadata": {},
   "outputs": [],
   "source": [
    "# Text length analysis\n",
    "tweets_df[\"text_length\"] = tweets_df[\"text\"].str.len()\n",
    "tweets_df[\"text_length\"].describe()\n"
   ]
  },
  {
   "cell_type": "code",
   "execution_count": null,
   "id": "fdf38503",
   "metadata": {},
   "outputs": [],
   "source": [
    "# Most engaging tweets\n",
    "top_tweets = tweets_df.nlargest(5, \"likes\")[[\"text\", \"likes\", \"retweets\"]]\n",
    "top_tweets\n"
   ]
  },
  {
   "cell_type": "code",
   "execution_count": null,
   "id": "5222023b",
   "metadata": {},
   "outputs": [],
   "source": [
    "# Quick content check - sample tweets\n",
    "tweets_df[\"text\"].head(10).tolist()\n"
   ]
  },
  {
   "cell_type": "code",
   "execution_count": null,
   "id": "670de349",
   "metadata": {},
   "outputs": [],
   "source": [
    "# Check URLs in tweets\n",
    "url_tweets = tweets_df[tweets_df[\"text\"].str.contains(\"http\", case=False, na=False)]\n",
    "print(f\"Tweets with URLs: {len(url_tweets)} out of {len(tweets_df)}\")\n"
   ]
  },
  {
   "cell_type": "code",
   "execution_count": null,
   "id": "d8bd8b93",
   "metadata": {},
   "outputs": [],
   "source": [
    "# Sample tweets with URLs\n",
    "url_tweets[[\"text\", \"likes\"]].head(3)\n"
   ]
  },
  {
   "cell_type": "code",
   "execution_count": null,
   "id": "005b2fa2",
   "metadata": {},
   "outputs": [],
   "source": [
    "# Function for cardiffnlp model preprocessing\n",
    "def preprocess_for_sentiment(text):\n",
    "    new_text = []\n",
    "    for t in text.split(\" \"):\n",
    "        t = \"@user\" if t.startswith(\"@\") and len(t) > 1 else t\n",
    "        t = \"http\" if t.startswith(\"http\") else t\n",
    "        new_text.append(t)\n",
    "    return \" \".join(new_text)\n"
   ]
  },
  {
   "cell_type": "code",
   "execution_count": null,
   "id": "94a71f7d",
   "metadata": {},
   "outputs": [],
   "source": [
    "# Test preprocessing on sample tweets\n",
    "def preprocess_for_sentiment_v2(text):\n",
    "    new_text = []\n",
    "    for t in text.split(\" \"):\n",
    "        # Only mask @user unless it is @spotify (case-insensitive)\n",
    "        if t.lower().startswith(\"@spotify\") and len(t) > 1:\n",
    "            new_text.append(\"@spotify\")\n",
    "        elif t.startswith(\"@\") and len(t) > 1:\n",
    "            new_text.append(\"@user\")\n",
    "        elif t.startswith(\"http\"):\n",
    "            new_text.append(\"http\")\n",
    "        else:\n",
    "            new_text.append(t)\n",
    "    return \" \".join(new_text)\n",
    "\n",
    "\n",
    "sample_tweets = tweets_df[\"text\"].head(3).tolist()\n",
    "for i, tweet in enumerate(sample_tweets):\n",
    "    print(f\"Original: {tweet[:80]}...\")\n",
    "    print(f\"Processed: {preprocess_for_sentiment_v2(tweet)[:80]}...\")\n",
    "    print()\n"
   ]
  },
  {
   "cell_type": "code",
   "execution_count": null,
   "id": "4e5dc030",
   "metadata": {},
   "outputs": [],
   "source": [
    "# Apply preprocessing to all tweets\n",
    "tweets_df[\"text_clean\"] = tweets_df[\"text\"].apply(preprocess_for_sentiment_v2)\n"
   ]
  },
  {
   "cell_type": "code",
   "execution_count": null,
   "id": "fe6ed84f",
   "metadata": {},
   "outputs": [],
   "source": [
    "# Check preprocessing results\n",
    "tweets_df[[\"text\", \"text_clean\"]].head(3)\n"
   ]
  },
  {
   "cell_type": "code",
   "execution_count": null,
   "id": "b49d5d94",
   "metadata": {},
   "outputs": [],
   "source": [
    "# Save clean data for sentiment analysis\n",
    "tweets_df.to_csv(\"data/cleaned/spotify_ai_dj_new_tweets_clean.csv\", index=False)\n",
    "print(\"Saved clean dataset with\", len(tweets_df), \"tweets\")\n"
   ]
  },
  {
   "cell_type": "code",
   "execution_count": null,
   "id": "caaf4655",
   "metadata": {},
   "outputs": [],
   "source": [
    "# Check one example to see full preprocessing\n",
    "print(\"Original:\")\n",
    "print(repr(tweets_df.iloc[2][\"text\"]))\n",
    "print(\"\\nCleaned:\")\n",
    "print(repr(tweets_df.iloc[2][\"text_clean\"]))\n"
   ]
  },
  {
   "cell_type": "code",
   "execution_count": null,
   "id": "08d3f902",
   "metadata": {},
   "outputs": [],
   "source": [
    "tweets_df\n"
   ]
  },
  {
   "cell_type": "code",
   "execution_count": null,
   "id": "fea42332",
   "metadata": {},
   "outputs": [],
   "source": [
    "old_tweets = pd.read_csv(\"data/cleaned/spotify_ai_dj_tweets_clean.csv\")\n"
   ]
  },
  {
   "cell_type": "code",
   "execution_count": null,
   "id": "5f4995ff",
   "metadata": {},
   "outputs": [],
   "source": [
    "# Fix column compatibility - add text_length to old_tweets if missing\n",
    "if \"text_length\" not in old_tweets.columns:\n",
    "    old_tweets[\"text_length\"] = old_tweets[\"text\"].str.len()\n",
    "\n",
    "# Use pd.concat instead of deprecated append()\n",
    "all_tweets = pd.concat([old_tweets, tweets_df], ignore_index=True)\n",
    "print(f\"Combined dataset shape: {all_tweets.shape}\")\n",
    "print(f\"Old tweets: {len(old_tweets)}, New tweets: {len(tweets_df)}\")\n",
    "all_tweets.head()\n"
   ]
  },
  {
   "cell_type": "code",
   "execution_count": null,
   "id": "f3e9f70a",
   "metadata": {},
   "outputs": [],
   "source": [
    "all_tweets.sort_values(by=\"created_at\", inplace=True)\n"
   ]
  },
  {
   "cell_type": "code",
   "execution_count": null,
   "id": "16866705",
   "metadata": {},
   "outputs": [],
   "source": [
    "all_tweets.to_csv(\"data/spotify_ai_dj_all_tweets.csv\", index=False)\n"
   ]
  },
  {
   "cell_type": "code",
   "execution_count": null,
   "id": "b34ff46f",
   "metadata": {},
   "outputs": [],
   "source": []
  }
 ],
 "metadata": {
  "kernelspec": {
   "display_name": ".venv",
   "language": "python",
   "name": "python3"
  },
  "language_info": {
   "codemirror_mode": {
    "name": "ipython",
    "version": 3
   },
   "file_extension": ".py",
   "mimetype": "text/x-python",
   "name": "python",
   "nbconvert_exporter": "python",
   "pygments_lexer": "ipython3",
   "version": "3.12.2"
  }
 },
 "nbformat": 4,
 "nbformat_minor": 5
}
