{
 "cells": [
  {
   "cell_type": "code",
   "execution_count": 1,
   "id": "87c0cd61",
   "metadata": {},
   "outputs": [],
   "source": [
    "# libraries for Twitter data collection\n",
    "import pandas as pd\n",
    "import tweepy\n",
    "import time\n",
    "from datetime import datetime, timedelta\n",
    "import json\n",
    "import os\n",
    "import pickle\n",
    "import sys"
   ]
  },
  {
   "cell_type": "markdown",
   "id": "a4fc7f0c",
   "metadata": {},
   "source": [
    "### 1st test\n"
   ]
  },
  {
   "cell_type": "code",
   "execution_count": 2,
   "id": "ca06b5cc",
   "metadata": {},
   "outputs": [
    {
     "name": "stdout",
     "output_type": "stream",
     "text": [
      "API credentials found: True\n"
     ]
    }
   ],
   "source": [
    "# Twitter API Configuration\n",
    "\n",
    "BEARER_TOKEN = os.getenv(\"TWITTER_BEARER_TOKEN\")\n",
    "# API_KEY = os.getenv(\"TWITTER_API_KEY\")\n",
    "# API_SECRET = os.getenv(\"TWITTER_API_SECRET\")\n",
    "# ACCESS_TOKEN = os.getenv(\"TWITTER_ACCESS_TOKEN\")\n",
    "# ACCESS_TOKEN_SECRET = os.getenv(\"TWITTER_ACCESS_TOKEN_SECRET\")\n",
    "\n",
    "\n",
    "print(\"API credentials found:\", bool(BEARER_TOKEN))"
   ]
  },
  {
   "cell_type": "code",
   "execution_count": 4,
   "id": "25b2902b",
   "metadata": {},
   "outputs": [
    {
     "name": "stdout",
     "output_type": "stream",
     "text": [
      "Twitter client created successfully\n"
     ]
    }
   ],
   "source": [
    "# Initialize Twitter API client\n",
    "client = tweepy.Client(bearer_token=BEARER_TOKEN)\n",
    "print(\"Twitter client created successfully\")"
   ]
  },
  {
   "cell_type": "markdown",
   "id": "b52b8a88",
   "metadata": {},
   "source": []
  },
  {
   "cell_type": "code",
   "execution_count": 5,
   "id": "fa278468",
   "metadata": {},
   "outputs": [],
   "source": [
    "# Use the same query that worked well\n",
    "tweets_available_new = client.search_recent_tweets(\n",
    "    query='Spotify \"AI DJ\" -#ai -#dj -is:retweet lang:en',\n",
    "    max_results=97,\n",
    "    tweet_fields=[\n",
    "        \"created_at\",\n",
    "        \"public_metrics\",\n",
    "        \"author_id\",\n",
    "        \"lang\",\n",
    "        \"context_annotations\",\n",
    "        \"referenced_tweets\",\n",
    "    ],\n",
    ")\n"
   ]
  },
  {
   "cell_type": "code",
   "execution_count": 6,
   "id": "3b5ee7a9",
   "metadata": {},
   "outputs": [
    {
     "data": {
      "text/plain": [
       "97"
      ]
     },
     "execution_count": 6,
     "metadata": {},
     "output_type": "execute_result"
    }
   ],
   "source": [
    "len(tweets_available_new.data)\n"
   ]
  },
  {
   "cell_type": "code",
   "execution_count": 7,
   "id": "cb590d3b",
   "metadata": {},
   "outputs": [
    {
     "name": "stdout",
     "output_type": "stream",
     "text": [
      "1. @Spotify although it is in BETA your Ai DJ is F*#!&amp;ng awesome. Thank you. It's been a pleasure u...\n",
      "2. We don’t talk more about @spotify AI DJ, it’s so good. https://t.co/YevBz2gur1...\n",
      "3. @TomTalksCars have you hacked my spotify?!?!\n",
      "\n",
      "The AI DJ chap just said \"these songs will give you wi...\n",
      "4. Spotify’s AI DJ now takes typed requests and speaks Spanish \n",
      "\n",
      "https://t.co/Z5cmyPePoa https://t.co/a...\n",
      "5. @DiianaD_ @Omah_Lay according to Spotify Ai DJ \n",
      " I’m a part of top 10% of your fans.. show love 💜...\n"
     ]
    }
   ],
   "source": [
    "for i, tweet in enumerate(tweets_available_new.data[:5]):\n",
    "    print(f\"{i + 1}. {tweet.text[:100]}...\")\n"
   ]
  },
  {
   "cell_type": "markdown",
   "id": "e39e587d",
   "metadata": {},
   "source": [
    "### EDA\n"
   ]
  },
  {
   "cell_type": "code",
   "execution_count": 8,
   "id": "7a83d9c8",
   "metadata": {},
   "outputs": [
    {
     "name": "stdout",
     "output_type": "stream",
     "text": [
      "Tweet object type: <class 'tweepy.tweet.Tweet'>\n",
      "Available attributes: ['__abstractmethods__', '__class__', '__class_getitem__', '__contains__', '__delattr__', '__dir__', '__doc__', '__eq__', '__format__', '__ge__', '__getattr__', '__getattribute__', '__getitem__', '__getstate__', '__gt__', '__hash__', '__init__', '__init_subclass__', '__iter__', '__le__', '__len__', '__lt__', '__module__', '__ne__', '__new__', '__reduce__', '__reduce_ex__', '__repr__', '__reversed__', '__setattr__', '__sizeof__', '__slots__', '__str__', '__subclasshook__', '_abc_impl', 'attachments', 'author_id', 'context_annotations', 'conversation_id', 'created_at', 'data', 'edit_controls', 'edit_history_tweet_ids', 'entities', 'geo', 'get', 'id', 'in_reply_to_user_id', 'items', 'keys', 'lang', 'non_public_metrics', 'organic_metrics', 'possibly_sensitive', 'promoted_metrics', 'public_metrics', 'referenced_tweets', 'reply_settings', 'source', 'text', 'values', 'withheld']\n"
     ]
    }
   ],
   "source": [
    "# Explore tweet object structure\n",
    "first_tweet = tweets_available_new.data[0]\n",
    "print(\"Tweet object type:\", type(first_tweet))\n",
    "print(\"Available attributes:\", dir(first_tweet))\n"
   ]
  },
  {
   "cell_type": "code",
   "execution_count": 9,
   "id": "2bd7ac08",
   "metadata": {},
   "outputs": [
    {
     "name": "stdout",
     "output_type": "stream",
     "text": [
      "Tweet ID: 1979608101427773832\n",
      "Created at: 2025-10-18 17:58:45+00:00\n",
      "Text: @Spotify although it is in BETA your Ai DJ is F*#!&amp;ng awesome. Thank you. It's been a pleasure using it. So much better then Smart Shuffle imo [truncated]\n",
      "Author ID: 1172125489206611968\n",
      "Language: en\n"
     ]
    }
   ],
   "source": [
    "# Check what data fields we have\n",
    "print(\"Tweet ID:\", first_tweet.id)\n",
    "print(\"Created at:\", first_tweet.created_at)\n",
    "print(\"Text:\", first_tweet.text[:160] + \" [truncated]\")\n",
    "print(\"Author ID:\", first_tweet.author_id)\n",
    "print(\"Language:\", first_tweet.lang)\n"
   ]
  },
  {
   "cell_type": "code",
   "execution_count": 10,
   "id": "ae1ade08",
   "metadata": {},
   "outputs": [
    {
     "name": "stdout",
     "output_type": "stream",
     "text": [
      "Public metrics: {'retweet_count': 0, 'reply_count': 0, 'like_count': 0, 'quote_count': 0, 'bookmark_count': 0, 'impression_count': 4}\n",
      "Like count: 0\n",
      "Retweet count: 0\n"
     ]
    }
   ],
   "source": [
    "# Check public metrics\n",
    "print(\"Public metrics:\", first_tweet.public_metrics)\n",
    "print(\"Like count:\", first_tweet.public_metrics[\"like_count\"])\n",
    "print(\"Retweet count:\", first_tweet.public_metrics[\"retweet_count\"])\n"
   ]
  },
  {
   "cell_type": "code",
   "execution_count": 11,
   "id": "5948a5b2",
   "metadata": {},
   "outputs": [
    {
     "name": "stdout",
     "output_type": "stream",
     "text": [
      "Context annotations: [{'domain': {'id': '45', 'name': 'Brand Vertical', 'description': 'Top level entities that describe a Brands industry'}, 'entity': {'id': '781974597310615553', 'name': 'Entertainment'}}, {'domain': {'id': '30', 'name': 'Entities [Entity Service]', 'description': 'Entity Service top level domain, every item that is in Entity Service should be in this domain'}, 'entity': {'id': '781974597222535168', 'name': 'Online Services - Entertainment'}}]\n"
     ]
    }
   ],
   "source": [
    "# Check context annotations (if available)\n",
    "if hasattr(first_tweet, \"context_annotations\") and first_tweet.context_annotations:\n",
    "    print(\"Context annotations:\", first_tweet.context_annotations[:2])\n",
    "else:\n",
    "    print(\"No context annotations available\")\n"
   ]
  },
  {
   "cell_type": "code",
   "execution_count": 12,
   "id": "e8dbdac0",
   "metadata": {},
   "outputs": [
    {
     "data": {
      "text/plain": [
       "97"
      ]
     },
     "execution_count": 12,
     "metadata": {},
     "output_type": "execute_result"
    }
   ],
   "source": [
    "# Check data we collected\n",
    "len(tweets_available_new.data)\n"
   ]
  },
  {
   "cell_type": "code",
   "execution_count": 13,
   "id": "1c25e735",
   "metadata": {},
   "outputs": [],
   "source": [
    "# Convert tweets to simple structure\n",
    "tweets_list_new = []\n",
    "for tweet in tweets_available_new.data:\n",
    "    tweets_list_new.append(\n",
    "        {\n",
    "            \"id\": tweet.id,\n",
    "            \"text\": tweet.text,\n",
    "            \"author_id\": tweet.author_id,\n",
    "            \"created_at\": tweet.created_at,\n",
    "            \"likes\": tweet.public_metrics[\"like_count\"],\n",
    "            \"retweets\": tweet.public_metrics[\"retweet_count\"],\n",
    "            \"replies\": tweet.public_metrics[\"reply_count\"],\n",
    "        }\n",
    "    )\n"
   ]
  },
  {
   "cell_type": "code",
   "execution_count": 14,
   "id": "6cbdb68a",
   "metadata": {},
   "outputs": [
    {
     "data": {
      "text/plain": [
       "(97, 7)"
      ]
     },
     "execution_count": 14,
     "metadata": {},
     "output_type": "execute_result"
    }
   ],
   "source": [
    "# Create DataFrame\n",
    "df_new = pd.DataFrame(tweets_list_new)\n",
    "df_new.shape\n"
   ]
  },
  {
   "cell_type": "code",
   "execution_count": 15,
   "id": "8982d5bb",
   "metadata": {},
   "outputs": [
    {
     "data": {
      "text/html": [
       "<div>\n",
       "<style scoped>\n",
       "    .dataframe tbody tr th:only-of-type {\n",
       "        vertical-align: middle;\n",
       "    }\n",
       "\n",
       "    .dataframe tbody tr th {\n",
       "        vertical-align: top;\n",
       "    }\n",
       "\n",
       "    .dataframe thead th {\n",
       "        text-align: right;\n",
       "    }\n",
       "</style>\n",
       "<table border=\"1\" class=\"dataframe\">\n",
       "  <thead>\n",
       "    <tr style=\"text-align: right;\">\n",
       "      <th></th>\n",
       "      <th>id</th>\n",
       "      <th>text</th>\n",
       "      <th>author_id</th>\n",
       "      <th>created_at</th>\n",
       "      <th>likes</th>\n",
       "      <th>retweets</th>\n",
       "      <th>replies</th>\n",
       "    </tr>\n",
       "  </thead>\n",
       "  <tbody>\n",
       "    <tr>\n",
       "      <th>0</th>\n",
       "      <td>1979608101427773832</td>\n",
       "      <td>@Spotify although it is in BETA your Ai DJ is ...</td>\n",
       "      <td>1172125489206611968</td>\n",
       "      <td>2025-10-18 17:58:45+00:00</td>\n",
       "      <td>0</td>\n",
       "      <td>0</td>\n",
       "      <td>0</td>\n",
       "    </tr>\n",
       "    <tr>\n",
       "      <th>1</th>\n",
       "      <td>1979519452124426507</td>\n",
       "      <td>We don’t talk more about @spotify AI DJ, it’s ...</td>\n",
       "      <td>1441064696967270437</td>\n",
       "      <td>2025-10-18 12:06:29+00:00</td>\n",
       "      <td>0</td>\n",
       "      <td>0</td>\n",
       "      <td>0</td>\n",
       "    </tr>\n",
       "    <tr>\n",
       "      <th>2</th>\n",
       "      <td>1979480353573089284</td>\n",
       "      <td>@TomTalksCars have you hacked my spotify?!?!\\n...</td>\n",
       "      <td>380185975</td>\n",
       "      <td>2025-10-18 09:31:07+00:00</td>\n",
       "      <td>3</td>\n",
       "      <td>0</td>\n",
       "      <td>1</td>\n",
       "    </tr>\n",
       "    <tr>\n",
       "      <th>3</th>\n",
       "      <td>1979480074584764692</td>\n",
       "      <td>Spotify’s AI DJ now takes typed requests and s...</td>\n",
       "      <td>156568938</td>\n",
       "      <td>2025-10-18 09:30:01+00:00</td>\n",
       "      <td>0</td>\n",
       "      <td>0</td>\n",
       "      <td>0</td>\n",
       "    </tr>\n",
       "    <tr>\n",
       "      <th>4</th>\n",
       "      <td>1979407666834223276</td>\n",
       "      <td>@DiianaD_ @Omah_Lay according to Spotify Ai DJ...</td>\n",
       "      <td>890357228003356672</td>\n",
       "      <td>2025-10-18 04:42:18+00:00</td>\n",
       "      <td>0</td>\n",
       "      <td>0</td>\n",
       "      <td>0</td>\n",
       "    </tr>\n",
       "  </tbody>\n",
       "</table>\n",
       "</div>"
      ],
      "text/plain": [
       "                    id                                               text  \\\n",
       "0  1979608101427773832  @Spotify although it is in BETA your Ai DJ is ...   \n",
       "1  1979519452124426507  We don’t talk more about @spotify AI DJ, it’s ...   \n",
       "2  1979480353573089284  @TomTalksCars have you hacked my spotify?!?!\\n...   \n",
       "3  1979480074584764692  Spotify’s AI DJ now takes typed requests and s...   \n",
       "4  1979407666834223276  @DiianaD_ @Omah_Lay according to Spotify Ai DJ...   \n",
       "\n",
       "             author_id                created_at  likes  retweets  replies  \n",
       "0  1172125489206611968 2025-10-18 17:58:45+00:00      0         0        0  \n",
       "1  1441064696967270437 2025-10-18 12:06:29+00:00      0         0        0  \n",
       "2            380185975 2025-10-18 09:31:07+00:00      3         0        1  \n",
       "3            156568938 2025-10-18 09:30:01+00:00      0         0        0  \n",
       "4   890357228003356672 2025-10-18 04:42:18+00:00      0         0        0  "
      ]
     },
     "execution_count": 15,
     "metadata": {},
     "output_type": "execute_result"
    }
   ],
   "source": [
    "# Quick overview\n",
    "df_new.head()\n"
   ]
  },
  {
   "cell_type": "code",
   "execution_count": null,
   "id": "a81b8de1",
   "metadata": {},
   "outputs": [],
   "source": [
    "# Save to CSV\n",
    "df_new.to_csv(\"data/extracted/spotify_ai_dj_new_tweets.csv\", index=False)\n"
   ]
  },
  {
   "cell_type": "markdown",
   "id": "0f1c41d7",
   "metadata": {},
   "source": [
    "## Pre-processing for Model\n"
   ]
  },
  {
   "cell_type": "code",
   "execution_count": null,
   "id": "9530cff4",
   "metadata": {},
   "outputs": [
    {
     "data": {
      "text/plain": [
       "(97, 7)"
      ]
     },
     "execution_count": 33,
     "metadata": {},
     "output_type": "execute_result"
    }
   ],
   "source": [
    "# Test reading the CSV back\n",
    "tweets_df = pd.read_csv(\"data/extracted/spotify_ai_dj_new_tweets.csv\")\n",
    "tweets_df.shape\n"
   ]
  },
  {
   "cell_type": "code",
   "execution_count": 34,
   "id": "4e0035e8",
   "metadata": {},
   "outputs": [
    {
     "name": "stdout",
     "output_type": "stream",
     "text": [
      "Dataset shape: (97, 7)\n",
      "\n",
      "Columns: ['id', 'text', 'author_id', 'created_at', 'likes', 'retweets', 'replies']\n",
      "\n",
      "Date range:\n",
      "From: 2025-10-13 13:44:28+00:00\n",
      "To: 2025-10-18 17:58:45+00:00\n"
     ]
    }
   ],
   "source": [
    "# Basic data exploration\n",
    "print(\"Dataset shape:\", tweets_df.shape)\n",
    "print(\"\\nColumns:\", tweets_df.columns.tolist())\n",
    "print(\"\\nDate range:\")\n",
    "print(\"From:\", tweets_df[\"created_at\"].min())\n",
    "print(\"To:\", tweets_df[\"created_at\"].max())\n"
   ]
  },
  {
   "cell_type": "code",
   "execution_count": 35,
   "id": "6ac1453d",
   "metadata": {},
   "outputs": [
    {
     "data": {
      "text/html": [
       "<div>\n",
       "<style scoped>\n",
       "    .dataframe tbody tr th:only-of-type {\n",
       "        vertical-align: middle;\n",
       "    }\n",
       "\n",
       "    .dataframe tbody tr th {\n",
       "        vertical-align: top;\n",
       "    }\n",
       "\n",
       "    .dataframe thead th {\n",
       "        text-align: right;\n",
       "    }\n",
       "</style>\n",
       "<table border=\"1\" class=\"dataframe\">\n",
       "  <thead>\n",
       "    <tr style=\"text-align: right;\">\n",
       "      <th></th>\n",
       "      <th>likes</th>\n",
       "      <th>retweets</th>\n",
       "      <th>replies</th>\n",
       "    </tr>\n",
       "  </thead>\n",
       "  <tbody>\n",
       "    <tr>\n",
       "      <th>count</th>\n",
       "      <td>97.000000</td>\n",
       "      <td>97.000000</td>\n",
       "      <td>97.000000</td>\n",
       "    </tr>\n",
       "    <tr>\n",
       "      <th>mean</th>\n",
       "      <td>1.278351</td>\n",
       "      <td>0.195876</td>\n",
       "      <td>0.247423</td>\n",
       "    </tr>\n",
       "    <tr>\n",
       "      <th>std</th>\n",
       "      <td>3.944253</td>\n",
       "      <td>1.086270</td>\n",
       "      <td>0.595660</td>\n",
       "    </tr>\n",
       "    <tr>\n",
       "      <th>min</th>\n",
       "      <td>0.000000</td>\n",
       "      <td>0.000000</td>\n",
       "      <td>0.000000</td>\n",
       "    </tr>\n",
       "    <tr>\n",
       "      <th>25%</th>\n",
       "      <td>0.000000</td>\n",
       "      <td>0.000000</td>\n",
       "      <td>0.000000</td>\n",
       "    </tr>\n",
       "    <tr>\n",
       "      <th>50%</th>\n",
       "      <td>0.000000</td>\n",
       "      <td>0.000000</td>\n",
       "      <td>0.000000</td>\n",
       "    </tr>\n",
       "    <tr>\n",
       "      <th>75%</th>\n",
       "      <td>1.000000</td>\n",
       "      <td>0.000000</td>\n",
       "      <td>0.000000</td>\n",
       "    </tr>\n",
       "    <tr>\n",
       "      <th>max</th>\n",
       "      <td>32.000000</td>\n",
       "      <td>8.000000</td>\n",
       "      <td>3.000000</td>\n",
       "    </tr>\n",
       "  </tbody>\n",
       "</table>\n",
       "</div>"
      ],
      "text/plain": [
       "           likes   retweets    replies\n",
       "count  97.000000  97.000000  97.000000\n",
       "mean    1.278351   0.195876   0.247423\n",
       "std     3.944253   1.086270   0.595660\n",
       "min     0.000000   0.000000   0.000000\n",
       "25%     0.000000   0.000000   0.000000\n",
       "50%     0.000000   0.000000   0.000000\n",
       "75%     1.000000   0.000000   0.000000\n",
       "max    32.000000   8.000000   3.000000"
      ]
     },
     "execution_count": 35,
     "metadata": {},
     "output_type": "execute_result"
    }
   ],
   "source": [
    "# Engagement metrics overview\n",
    "tweets_df[[\"likes\", \"retweets\", \"replies\"]].describe()\n"
   ]
  },
  {
   "cell_type": "code",
   "execution_count": 36,
   "id": "a55816a2",
   "metadata": {},
   "outputs": [
    {
     "data": {
      "text/plain": [
       "count     97.000000\n",
       "mean     150.072165\n",
       "std       84.444909\n",
       "min       20.000000\n",
       "25%       79.000000\n",
       "50%      128.000000\n",
       "75%      218.000000\n",
       "max      320.000000\n",
       "Name: text_length, dtype: float64"
      ]
     },
     "execution_count": 36,
     "metadata": {},
     "output_type": "execute_result"
    }
   ],
   "source": [
    "# Text length analysis\n",
    "tweets_df[\"text_length\"] = tweets_df[\"text\"].str.len()\n",
    "tweets_df[\"text_length\"].describe()\n"
   ]
  },
  {
   "cell_type": "code",
   "execution_count": 37,
   "id": "fdf38503",
   "metadata": {},
   "outputs": [
    {
     "data": {
      "text/html": [
       "<div>\n",
       "<style scoped>\n",
       "    .dataframe tbody tr th:only-of-type {\n",
       "        vertical-align: middle;\n",
       "    }\n",
       "\n",
       "    .dataframe tbody tr th {\n",
       "        vertical-align: top;\n",
       "    }\n",
       "\n",
       "    .dataframe thead th {\n",
       "        text-align: right;\n",
       "    }\n",
       "</style>\n",
       "<table border=\"1\" class=\"dataframe\">\n",
       "  <thead>\n",
       "    <tr style=\"text-align: right;\">\n",
       "      <th></th>\n",
       "      <th>text</th>\n",
       "      <th>likes</th>\n",
       "      <th>retweets</th>\n",
       "    </tr>\n",
       "  </thead>\n",
       "  <tbody>\n",
       "    <tr>\n",
       "      <th>58</th>\n",
       "      <td>Premium members can now make requests in Spani...</td>\n",
       "      <td>32</td>\n",
       "      <td>8</td>\n",
       "    </tr>\n",
       "    <tr>\n",
       "      <th>67</th>\n",
       "      <td>I belong on my strange addiction for how much ...</td>\n",
       "      <td>17</td>\n",
       "      <td>0</td>\n",
       "    </tr>\n",
       "    <tr>\n",
       "      <th>95</th>\n",
       "      <td>YouTube Music is testing its answer to Spotify...</td>\n",
       "      <td>10</td>\n",
       "      <td>7</td>\n",
       "    </tr>\n",
       "    <tr>\n",
       "      <th>62</th>\n",
       "      <td>Spotify's AI DJ now takes text commands and ac...</td>\n",
       "      <td>9</td>\n",
       "      <td>1</td>\n",
       "    </tr>\n",
       "    <tr>\n",
       "      <th>27</th>\n",
       "      <td>I can't take Spotify's efforts here seriously ...</td>\n",
       "      <td>6</td>\n",
       "      <td>0</td>\n",
       "    </tr>\n",
       "  </tbody>\n",
       "</table>\n",
       "</div>"
      ],
      "text/plain": [
       "                                                 text  likes  retweets\n",
       "58  Premium members can now make requests in Spani...     32         8\n",
       "67  I belong on my strange addiction for how much ...     17         0\n",
       "95  YouTube Music is testing its answer to Spotify...     10         7\n",
       "62  Spotify's AI DJ now takes text commands and ac...      9         1\n",
       "27  I can't take Spotify's efforts here seriously ...      6         0"
      ]
     },
     "execution_count": 37,
     "metadata": {},
     "output_type": "execute_result"
    }
   ],
   "source": [
    "# Most engaging tweets\n",
    "top_tweets = tweets_df.nlargest(5, \"likes\")[[\"text\", \"likes\", \"retweets\"]]\n",
    "top_tweets\n"
   ]
  },
  {
   "cell_type": "code",
   "execution_count": 38,
   "id": "5222023b",
   "metadata": {},
   "outputs": [
    {
     "data": {
      "text/plain": [
       "[\"@Spotify although it is in BETA your Ai DJ is F*#!&amp;ng awesome. Thank you. It's been a pleasure using it. So much better then Smart Shuffle imo\",\n",
       " 'We don’t talk more about @spotify AI DJ, it’s so good. https://t.co/YevBz2gur1',\n",
       " '@TomTalksCars have you hacked my spotify?!?!\\n\\nThe AI DJ chap just said \"these songs will give you wind in your hair vibes; of course, I don\\'t know if you actually have hair\"\\n\\nFML',\n",
       " 'Spotify’s AI DJ now takes typed requests and speaks Spanish \\n\\nhttps://t.co/Z5cmyPePoa https://t.co/apJMbI8ILZ',\n",
       " '@DiianaD_ @Omah_Lay according to Spotify Ai DJ \\n I’m a part of top 10% of your fans.. show love 💜',\n",
       " \"I may unsubscribe from @Spotify, though it has taste truly superior to YouTube Music, because you can't turn the AI DJ voice off on the mix (which isn't a bad mix). Extremely annoying.\",\n",
       " '👋 Hey folks, FooDriver here!\\n🤖 Spotify is rocking the tech world with generative AI, enhancing user interaction with features like AI DJ and playlist creation based on text prompts.\\n\\n💡 BandLab is hitting a high note with 60 million users, offering a free platform for music https://t.co/5QDiPtWde8',\n",
       " '@radbackwards Absolutely, not restricting yourself to few genres &amp; artists is still very doable even in algo-driven world\\n\\n@Spotify — Daily mixes suck, same music week after week, but AI DJ is surprisingly good, delivers new music every day, I bet my 2025 stats will look even more spread out https://t.co/PUcbQbBdCZ',\n",
       " 'I can\\'t believe there\\'s no way to change the annoying voice on Spotify\\'s AI DJ feature.\\n\\nI\\'m tired of this dude telling me we\\'re going to \"hit it up\" with some Beethoven.',\n",
       " 'Apparently my @Spotify AI DJ  happens to be named \\n➪ Xavier or X, Sure I’ll go with it 🤷🏻\\u200d♂️']"
      ]
     },
     "execution_count": 38,
     "metadata": {},
     "output_type": "execute_result"
    }
   ],
   "source": [
    "# Quick content check - sample tweets\n",
    "tweets_df[\"text\"].head(10).tolist()\n"
   ]
  },
  {
   "cell_type": "code",
   "execution_count": 39,
   "id": "670de349",
   "metadata": {},
   "outputs": [
    {
     "name": "stdout",
     "output_type": "stream",
     "text": [
      "Tweets with URLs: 66 out of 97\n"
     ]
    }
   ],
   "source": [
    "# Check URLs in tweets\n",
    "url_tweets = tweets_df[tweets_df[\"text\"].str.contains(\"http\", case=False, na=False)]\n",
    "print(f\"Tweets with URLs: {len(url_tweets)} out of {len(tweets_df)}\")\n"
   ]
  },
  {
   "cell_type": "code",
   "execution_count": 40,
   "id": "d8bd8b93",
   "metadata": {},
   "outputs": [
    {
     "data": {
      "text/html": [
       "<div>\n",
       "<style scoped>\n",
       "    .dataframe tbody tr th:only-of-type {\n",
       "        vertical-align: middle;\n",
       "    }\n",
       "\n",
       "    .dataframe tbody tr th {\n",
       "        vertical-align: top;\n",
       "    }\n",
       "\n",
       "    .dataframe thead th {\n",
       "        text-align: right;\n",
       "    }\n",
       "</style>\n",
       "<table border=\"1\" class=\"dataframe\">\n",
       "  <thead>\n",
       "    <tr style=\"text-align: right;\">\n",
       "      <th></th>\n",
       "      <th>text</th>\n",
       "      <th>likes</th>\n",
       "    </tr>\n",
       "  </thead>\n",
       "  <tbody>\n",
       "    <tr>\n",
       "      <th>1</th>\n",
       "      <td>We don’t talk more about @spotify AI DJ, it’s ...</td>\n",
       "      <td>0</td>\n",
       "    </tr>\n",
       "    <tr>\n",
       "      <th>3</th>\n",
       "      <td>Spotify’s AI DJ now takes typed requests and s...</td>\n",
       "      <td>0</td>\n",
       "    </tr>\n",
       "    <tr>\n",
       "      <th>6</th>\n",
       "      <td>👋 Hey folks, FooDriver here!\\n🤖 Spotify is roc...</td>\n",
       "      <td>1</td>\n",
       "    </tr>\n",
       "  </tbody>\n",
       "</table>\n",
       "</div>"
      ],
      "text/plain": [
       "                                                text  likes\n",
       "1  We don’t talk more about @spotify AI DJ, it’s ...      0\n",
       "3  Spotify’s AI DJ now takes typed requests and s...      0\n",
       "6  👋 Hey folks, FooDriver here!\\n🤖 Spotify is roc...      1"
      ]
     },
     "execution_count": 40,
     "metadata": {},
     "output_type": "execute_result"
    }
   ],
   "source": [
    "# Sample tweets with URLs\n",
    "url_tweets[[\"text\", \"likes\"]].head(3)\n"
   ]
  },
  {
   "cell_type": "code",
   "execution_count": 41,
   "id": "005b2fa2",
   "metadata": {},
   "outputs": [],
   "source": [
    "# Function for cardiffnlp model preprocessing\n",
    "def preprocess_for_sentiment(text):\n",
    "    new_text = []\n",
    "    for t in text.split(\" \"):\n",
    "        t = \"@user\" if t.startswith(\"@\") and len(t) > 1 else t\n",
    "        t = \"http\" if t.startswith(\"http\") else t\n",
    "        new_text.append(t)\n",
    "    return \" \".join(new_text)\n"
   ]
  },
  {
   "cell_type": "code",
   "execution_count": null,
   "id": "94a71f7d",
   "metadata": {},
   "outputs": [
    {
     "name": "stdout",
     "output_type": "stream",
     "text": [
      "Original: @Spotify although it is in BETA your Ai DJ is F*#!&amp;ng awesome. Thank you. It...\n",
      "Processed: @spotify although it is in BETA your Ai DJ is F*#!&amp;ng awesome. Thank you. It...\n",
      "\n",
      "Original: We don’t talk more about @spotify AI DJ, it’s so good. https://t.co/YevBz2gur1...\n",
      "Processed: We don’t talk more about @spotify AI DJ, it’s so good. http...\n",
      "\n",
      "Original: @TomTalksCars have you hacked my spotify?!?!\n",
      "\n",
      "The AI DJ chap just said \"these so...\n",
      "Processed: @user have you hacked my spotify?!?!\n",
      "\n",
      "The AI DJ chap just said \"these songs will...\n",
      "\n"
     ]
    }
   ],
   "source": [
    "# Test preprocessing on sample tweets\n",
    "def preprocess_for_sentiment_v2(text):\n",
    "    new_text = []\n",
    "    for t in text.split(\" \"):\n",
    "        # Only mask @user unless it is @spotify (case-insensitive)\n",
    "        if t.lower().startswith(\"@spotify\") and len(t) > 1:\n",
    "            new_text.append(\"@spotify\")\n",
    "        elif t.startswith(\"@\") and len(t) > 1:\n",
    "            new_text.append(\"@user\")\n",
    "        elif t.startswith(\"http\"):\n",
    "            new_text.append(\"http\")\n",
    "        else:\n",
    "            new_text.append(t)\n",
    "    return \" \".join(new_text)\n",
    "\n",
    "\n",
    "sample_tweets = tweets_df[\"text\"].head(3).tolist()\n",
    "for i, tweet in enumerate(sample_tweets):\n",
    "    print(f\"Original: {tweet[:80]}...\")\n",
    "    print(f\"Processed: {preprocess_for_sentiment_v2(tweet)[:80]}...\")\n",
    "    print()\n"
   ]
  },
  {
   "cell_type": "code",
   "execution_count": 43,
   "id": "4e5dc030",
   "metadata": {},
   "outputs": [],
   "source": [
    "# Apply preprocessing to all tweets\n",
    "tweets_df[\"text_clean\"] = tweets_df[\"text\"].apply(preprocess_for_sentiment_v2)\n"
   ]
  },
  {
   "cell_type": "code",
   "execution_count": 44,
   "id": "fe6ed84f",
   "metadata": {},
   "outputs": [
    {
     "data": {
      "text/html": [
       "<div>\n",
       "<style scoped>\n",
       "    .dataframe tbody tr th:only-of-type {\n",
       "        vertical-align: middle;\n",
       "    }\n",
       "\n",
       "    .dataframe tbody tr th {\n",
       "        vertical-align: top;\n",
       "    }\n",
       "\n",
       "    .dataframe thead th {\n",
       "        text-align: right;\n",
       "    }\n",
       "</style>\n",
       "<table border=\"1\" class=\"dataframe\">\n",
       "  <thead>\n",
       "    <tr style=\"text-align: right;\">\n",
       "      <th></th>\n",
       "      <th>text</th>\n",
       "      <th>text_clean</th>\n",
       "    </tr>\n",
       "  </thead>\n",
       "  <tbody>\n",
       "    <tr>\n",
       "      <th>0</th>\n",
       "      <td>@Spotify although it is in BETA your Ai DJ is ...</td>\n",
       "      <td>@spotify although it is in BETA your Ai DJ is ...</td>\n",
       "    </tr>\n",
       "    <tr>\n",
       "      <th>1</th>\n",
       "      <td>We don’t talk more about @spotify AI DJ, it’s ...</td>\n",
       "      <td>We don’t talk more about @spotify AI DJ, it’s ...</td>\n",
       "    </tr>\n",
       "    <tr>\n",
       "      <th>2</th>\n",
       "      <td>@TomTalksCars have you hacked my spotify?!?!\\n...</td>\n",
       "      <td>@user have you hacked my spotify?!?!\\n\\nThe AI...</td>\n",
       "    </tr>\n",
       "  </tbody>\n",
       "</table>\n",
       "</div>"
      ],
      "text/plain": [
       "                                                text  \\\n",
       "0  @Spotify although it is in BETA your Ai DJ is ...   \n",
       "1  We don’t talk more about @spotify AI DJ, it’s ...   \n",
       "2  @TomTalksCars have you hacked my spotify?!?!\\n...   \n",
       "\n",
       "                                          text_clean  \n",
       "0  @spotify although it is in BETA your Ai DJ is ...  \n",
       "1  We don’t talk more about @spotify AI DJ, it’s ...  \n",
       "2  @user have you hacked my spotify?!?!\\n\\nThe AI...  "
      ]
     },
     "execution_count": 44,
     "metadata": {},
     "output_type": "execute_result"
    }
   ],
   "source": [
    "# Check preprocessing results\n",
    "tweets_df[[\"text\", \"text_clean\"]].head(3)\n"
   ]
  },
  {
   "cell_type": "code",
   "execution_count": null,
   "id": "b49d5d94",
   "metadata": {},
   "outputs": [
    {
     "name": "stdout",
     "output_type": "stream",
     "text": [
      "Saved clean dataset with 97 tweets\n"
     ]
    }
   ],
   "source": [
    "# Save clean data for sentiment analysis\n",
    "tweets_df.to_csv(\"data/cleaned/spotify_ai_dj_new_tweets_clean.csv\", index=False)\n",
    "print(\"Saved clean dataset with\", len(tweets_df), \"tweets\")\n"
   ]
  },
  {
   "cell_type": "code",
   "execution_count": 46,
   "id": "caaf4655",
   "metadata": {},
   "outputs": [
    {
     "name": "stdout",
     "output_type": "stream",
     "text": [
      "Original:\n",
      "'@TomTalksCars have you hacked my spotify?!?!\\n\\nThe AI DJ chap just said \"these songs will give you wind in your hair vibes; of course, I don\\'t know if you actually have hair\"\\n\\nFML'\n",
      "\n",
      "Cleaned:\n",
      "'@user have you hacked my spotify?!?!\\n\\nThe AI DJ chap just said \"these songs will give you wind in your hair vibes; of course, I don\\'t know if you actually have hair\"\\n\\nFML'\n"
     ]
    }
   ],
   "source": [
    "# Check one example to see full preprocessing\n",
    "print(\"Original:\")\n",
    "print(repr(tweets_df.iloc[2][\"text\"]))\n",
    "print(\"\\nCleaned:\")\n",
    "print(repr(tweets_df.iloc[2][\"text_clean\"]))\n"
   ]
  },
  {
   "cell_type": "code",
   "execution_count": 47,
   "id": "08d3f902",
   "metadata": {},
   "outputs": [
    {
     "data": {
      "text/html": [
       "<div>\n",
       "<style scoped>\n",
       "    .dataframe tbody tr th:only-of-type {\n",
       "        vertical-align: middle;\n",
       "    }\n",
       "\n",
       "    .dataframe tbody tr th {\n",
       "        vertical-align: top;\n",
       "    }\n",
       "\n",
       "    .dataframe thead th {\n",
       "        text-align: right;\n",
       "    }\n",
       "</style>\n",
       "<table border=\"1\" class=\"dataframe\">\n",
       "  <thead>\n",
       "    <tr style=\"text-align: right;\">\n",
       "      <th></th>\n",
       "      <th>id</th>\n",
       "      <th>text</th>\n",
       "      <th>author_id</th>\n",
       "      <th>created_at</th>\n",
       "      <th>likes</th>\n",
       "      <th>retweets</th>\n",
       "      <th>replies</th>\n",
       "      <th>text_length</th>\n",
       "      <th>text_clean</th>\n",
       "    </tr>\n",
       "  </thead>\n",
       "  <tbody>\n",
       "    <tr>\n",
       "      <th>0</th>\n",
       "      <td>1979608101427773832</td>\n",
       "      <td>@Spotify although it is in BETA your Ai DJ is ...</td>\n",
       "      <td>1172125489206611968</td>\n",
       "      <td>2025-10-18 17:58:45+00:00</td>\n",
       "      <td>0</td>\n",
       "      <td>0</td>\n",
       "      <td>0</td>\n",
       "      <td>146</td>\n",
       "      <td>@spotify although it is in BETA your Ai DJ is ...</td>\n",
       "    </tr>\n",
       "    <tr>\n",
       "      <th>1</th>\n",
       "      <td>1979519452124426507</td>\n",
       "      <td>We don’t talk more about @spotify AI DJ, it’s ...</td>\n",
       "      <td>1441064696967270437</td>\n",
       "      <td>2025-10-18 12:06:29+00:00</td>\n",
       "      <td>0</td>\n",
       "      <td>0</td>\n",
       "      <td>0</td>\n",
       "      <td>78</td>\n",
       "      <td>We don’t talk more about @spotify AI DJ, it’s ...</td>\n",
       "    </tr>\n",
       "    <tr>\n",
       "      <th>2</th>\n",
       "      <td>1979480353573089284</td>\n",
       "      <td>@TomTalksCars have you hacked my spotify?!?!\\n...</td>\n",
       "      <td>380185975</td>\n",
       "      <td>2025-10-18 09:31:07+00:00</td>\n",
       "      <td>3</td>\n",
       "      <td>0</td>\n",
       "      <td>1</td>\n",
       "      <td>178</td>\n",
       "      <td>@user have you hacked my spotify?!?!\\n\\nThe AI...</td>\n",
       "    </tr>\n",
       "    <tr>\n",
       "      <th>3</th>\n",
       "      <td>1979480074584764692</td>\n",
       "      <td>Spotify’s AI DJ now takes typed requests and s...</td>\n",
       "      <td>156568938</td>\n",
       "      <td>2025-10-18 09:30:01+00:00</td>\n",
       "      <td>0</td>\n",
       "      <td>0</td>\n",
       "      <td>0</td>\n",
       "      <td>109</td>\n",
       "      <td>Spotify’s AI DJ now takes typed requests and s...</td>\n",
       "    </tr>\n",
       "    <tr>\n",
       "      <th>4</th>\n",
       "      <td>1979407666834223276</td>\n",
       "      <td>@DiianaD_ @Omah_Lay according to Spotify Ai DJ...</td>\n",
       "      <td>890357228003356672</td>\n",
       "      <td>2025-10-18 04:42:18+00:00</td>\n",
       "      <td>0</td>\n",
       "      <td>0</td>\n",
       "      <td>0</td>\n",
       "      <td>97</td>\n",
       "      <td>@user @user according to Spotify Ai DJ \\n I’m ...</td>\n",
       "    </tr>\n",
       "    <tr>\n",
       "      <th>...</th>\n",
       "      <td>...</td>\n",
       "      <td>...</td>\n",
       "      <td>...</td>\n",
       "      <td>...</td>\n",
       "      <td>...</td>\n",
       "      <td>...</td>\n",
       "      <td>...</td>\n",
       "      <td>...</td>\n",
       "      <td>...</td>\n",
       "    </tr>\n",
       "    <tr>\n",
       "      <th>92</th>\n",
       "      <td>1977851928999534748</td>\n",
       "      <td>who needs the spotify ai dj whej u could let m...</td>\n",
       "      <td>1365329219727802369</td>\n",
       "      <td>2025-10-13 21:40:21+00:00</td>\n",
       "      <td>4</td>\n",
       "      <td>0</td>\n",
       "      <td>2</td>\n",
       "      <td>63</td>\n",
       "      <td>who needs the spotify ai dj whej u could let m...</td>\n",
       "    </tr>\n",
       "    <tr>\n",
       "      <th>93</th>\n",
       "      <td>1977841187181433031</td>\n",
       "      <td>I have a fickle relationship with the Spotify ...</td>\n",
       "      <td>1976818041905115136</td>\n",
       "      <td>2025-10-13 20:57:40+00:00</td>\n",
       "      <td>0</td>\n",
       "      <td>0</td>\n",
       "      <td>0</td>\n",
       "      <td>52</td>\n",
       "      <td>I have a fickle relationship with the Spotify ...</td>\n",
       "    </tr>\n",
       "    <tr>\n",
       "      <th>94</th>\n",
       "      <td>1977759605934453059</td>\n",
       "      <td>YouTube Music is channeling Spotify’s AI DJ wi...</td>\n",
       "      <td>1688680889608265728</td>\n",
       "      <td>2025-10-13 15:33:29+00:00</td>\n",
       "      <td>0</td>\n",
       "      <td>0</td>\n",
       "      <td>0</td>\n",
       "      <td>146</td>\n",
       "      <td>YouTube Music is channeling Spotify’s AI DJ wi...</td>\n",
       "    </tr>\n",
       "    <tr>\n",
       "      <th>95</th>\n",
       "      <td>1977751212800737299</td>\n",
       "      <td>YouTube Music is testing its answer to Spotify...</td>\n",
       "      <td>35203319</td>\n",
       "      <td>2025-10-13 15:00:08+00:00</td>\n",
       "      <td>10</td>\n",
       "      <td>7</td>\n",
       "      <td>3</td>\n",
       "      <td>133</td>\n",
       "      <td>YouTube Music is testing its answer to Spotify...</td>\n",
       "    </tr>\n",
       "    <tr>\n",
       "      <th>96</th>\n",
       "      <td>1977732168588607554</td>\n",
       "      <td>@ooogawoooga @Spotify @SpotifyPH Philippines a...</td>\n",
       "      <td>793132660403019776</td>\n",
       "      <td>2025-10-13 13:44:28+00:00</td>\n",
       "      <td>1</td>\n",
       "      <td>0</td>\n",
       "      <td>1</td>\n",
       "      <td>180</td>\n",
       "      <td>@user @spotify @spotify Philippines and Indone...</td>\n",
       "    </tr>\n",
       "  </tbody>\n",
       "</table>\n",
       "<p>97 rows × 9 columns</p>\n",
       "</div>"
      ],
      "text/plain": [
       "                     id                                               text  \\\n",
       "0   1979608101427773832  @Spotify although it is in BETA your Ai DJ is ...   \n",
       "1   1979519452124426507  We don’t talk more about @spotify AI DJ, it’s ...   \n",
       "2   1979480353573089284  @TomTalksCars have you hacked my spotify?!?!\\n...   \n",
       "3   1979480074584764692  Spotify’s AI DJ now takes typed requests and s...   \n",
       "4   1979407666834223276  @DiianaD_ @Omah_Lay according to Spotify Ai DJ...   \n",
       "..                  ...                                                ...   \n",
       "92  1977851928999534748  who needs the spotify ai dj whej u could let m...   \n",
       "93  1977841187181433031  I have a fickle relationship with the Spotify ...   \n",
       "94  1977759605934453059  YouTube Music is channeling Spotify’s AI DJ wi...   \n",
       "95  1977751212800737299  YouTube Music is testing its answer to Spotify...   \n",
       "96  1977732168588607554  @ooogawoooga @Spotify @SpotifyPH Philippines a...   \n",
       "\n",
       "              author_id                 created_at  likes  retweets  replies  \\\n",
       "0   1172125489206611968  2025-10-18 17:58:45+00:00      0         0        0   \n",
       "1   1441064696967270437  2025-10-18 12:06:29+00:00      0         0        0   \n",
       "2             380185975  2025-10-18 09:31:07+00:00      3         0        1   \n",
       "3             156568938  2025-10-18 09:30:01+00:00      0         0        0   \n",
       "4    890357228003356672  2025-10-18 04:42:18+00:00      0         0        0   \n",
       "..                  ...                        ...    ...       ...      ...   \n",
       "92  1365329219727802369  2025-10-13 21:40:21+00:00      4         0        2   \n",
       "93  1976818041905115136  2025-10-13 20:57:40+00:00      0         0        0   \n",
       "94  1688680889608265728  2025-10-13 15:33:29+00:00      0         0        0   \n",
       "95             35203319  2025-10-13 15:00:08+00:00     10         7        3   \n",
       "96   793132660403019776  2025-10-13 13:44:28+00:00      1         0        1   \n",
       "\n",
       "    text_length                                         text_clean  \n",
       "0           146  @spotify although it is in BETA your Ai DJ is ...  \n",
       "1            78  We don’t talk more about @spotify AI DJ, it’s ...  \n",
       "2           178  @user have you hacked my spotify?!?!\\n\\nThe AI...  \n",
       "3           109  Spotify’s AI DJ now takes typed requests and s...  \n",
       "4            97  @user @user according to Spotify Ai DJ \\n I’m ...  \n",
       "..          ...                                                ...  \n",
       "92           63  who needs the spotify ai dj whej u could let m...  \n",
       "93           52  I have a fickle relationship with the Spotify ...  \n",
       "94          146  YouTube Music is channeling Spotify’s AI DJ wi...  \n",
       "95          133  YouTube Music is testing its answer to Spotify...  \n",
       "96          180  @user @spotify @spotify Philippines and Indone...  \n",
       "\n",
       "[97 rows x 9 columns]"
      ]
     },
     "execution_count": 47,
     "metadata": {},
     "output_type": "execute_result"
    }
   ],
   "source": [
    "tweets_df\n"
   ]
  },
  {
   "cell_type": "code",
   "execution_count": null,
   "id": "fea42332",
   "metadata": {},
   "outputs": [],
   "source": [
    "old_tweets = pd.read_csv(\"data/cleaned/spotify_ai_dj_tweets_clean.csv\")\n"
   ]
  },
  {
   "cell_type": "code",
   "execution_count": 54,
   "id": "5f4995ff",
   "metadata": {},
   "outputs": [
    {
     "name": "stdout",
     "output_type": "stream",
     "text": [
      "Combined dataset shape: (144, 9)\n",
      "Old tweets: 47, New tweets: 97\n"
     ]
    },
    {
     "data": {
      "text/html": [
       "<div>\n",
       "<style scoped>\n",
       "    .dataframe tbody tr th:only-of-type {\n",
       "        vertical-align: middle;\n",
       "    }\n",
       "\n",
       "    .dataframe tbody tr th {\n",
       "        vertical-align: top;\n",
       "    }\n",
       "\n",
       "    .dataframe thead th {\n",
       "        text-align: right;\n",
       "    }\n",
       "</style>\n",
       "<table border=\"1\" class=\"dataframe\">\n",
       "  <thead>\n",
       "    <tr style=\"text-align: right;\">\n",
       "      <th></th>\n",
       "      <th>id</th>\n",
       "      <th>text</th>\n",
       "      <th>author_id</th>\n",
       "      <th>created_at</th>\n",
       "      <th>likes</th>\n",
       "      <th>retweets</th>\n",
       "      <th>replies</th>\n",
       "      <th>text_clean</th>\n",
       "      <th>text_length</th>\n",
       "    </tr>\n",
       "  </thead>\n",
       "  <tbody>\n",
       "    <tr>\n",
       "      <th>0</th>\n",
       "      <td>1963699578370220543</td>\n",
       "      <td>This playlist gives Spotify AI DJ💀💀</td>\n",
       "      <td>4913255457</td>\n",
       "      <td>2025-09-04 20:23:57+00:00</td>\n",
       "      <td>0</td>\n",
       "      <td>0</td>\n",
       "      <td>0</td>\n",
       "      <td>This playlist gives Spotify AI DJ💀💀</td>\n",
       "      <td>35</td>\n",
       "    </tr>\n",
       "    <tr>\n",
       "      <th>1</th>\n",
       "      <td>1963692075439849536</td>\n",
       "      <td>The Spotify AI DJ randomly played this today.....</td>\n",
       "      <td>60245577</td>\n",
       "      <td>2025-09-04 19:54:09+00:00</td>\n",
       "      <td>0</td>\n",
       "      <td>0</td>\n",
       "      <td>0</td>\n",
       "      <td>The Spotify AI DJ randomly played this today.....</td>\n",
       "      <td>126</td>\n",
       "    </tr>\n",
       "    <tr>\n",
       "      <th>2</th>\n",
       "      <td>1963646985556103628</td>\n",
       "      <td>@g0dbr34th3d Your playlist is amazing for real...</td>\n",
       "      <td>1495824184638906368</td>\n",
       "      <td>2025-09-04 16:54:58+00:00</td>\n",
       "      <td>0</td>\n",
       "      <td>0</td>\n",
       "      <td>0</td>\n",
       "      <td>@user Your playlist is amazing for real.\\n\\nWo...</td>\n",
       "      <td>317</td>\n",
       "    </tr>\n",
       "    <tr>\n",
       "      <th>3</th>\n",
       "      <td>1963624836846023034</td>\n",
       "      <td>Makes sense that this is why the Spotify AI DJ...</td>\n",
       "      <td>261881081</td>\n",
       "      <td>2025-09-04 15:26:58+00:00</td>\n",
       "      <td>6</td>\n",
       "      <td>1</td>\n",
       "      <td>1</td>\n",
       "      <td>Makes sense that this is why the Spotify AI DJ...</td>\n",
       "      <td>82</td>\n",
       "    </tr>\n",
       "    <tr>\n",
       "      <th>4</th>\n",
       "      <td>1963616655533093015</td>\n",
       "      <td>I’ve only just discovered Spotify AI Dj..</td>\n",
       "      <td>33827542</td>\n",
       "      <td>2025-09-04 14:54:27+00:00</td>\n",
       "      <td>1</td>\n",
       "      <td>0</td>\n",
       "      <td>0</td>\n",
       "      <td>I’ve only just discovered Spotify AI Dj..</td>\n",
       "      <td>41</td>\n",
       "    </tr>\n",
       "  </tbody>\n",
       "</table>\n",
       "</div>"
      ],
      "text/plain": [
       "                    id                                               text  \\\n",
       "0  1963699578370220543                This playlist gives Spotify AI DJ💀💀   \n",
       "1  1963692075439849536  The Spotify AI DJ randomly played this today.....   \n",
       "2  1963646985556103628  @g0dbr34th3d Your playlist is amazing for real...   \n",
       "3  1963624836846023034  Makes sense that this is why the Spotify AI DJ...   \n",
       "4  1963616655533093015          I’ve only just discovered Spotify AI Dj..   \n",
       "\n",
       "             author_id                 created_at  likes  retweets  replies  \\\n",
       "0           4913255457  2025-09-04 20:23:57+00:00      0         0        0   \n",
       "1             60245577  2025-09-04 19:54:09+00:00      0         0        0   \n",
       "2  1495824184638906368  2025-09-04 16:54:58+00:00      0         0        0   \n",
       "3            261881081  2025-09-04 15:26:58+00:00      6         1        1   \n",
       "4             33827542  2025-09-04 14:54:27+00:00      1         0        0   \n",
       "\n",
       "                                          text_clean  text_length  \n",
       "0                This playlist gives Spotify AI DJ💀💀           35  \n",
       "1  The Spotify AI DJ randomly played this today.....          126  \n",
       "2  @user Your playlist is amazing for real.\\n\\nWo...          317  \n",
       "3  Makes sense that this is why the Spotify AI DJ...           82  \n",
       "4          I’ve only just discovered Spotify AI Dj..           41  "
      ]
     },
     "execution_count": 54,
     "metadata": {},
     "output_type": "execute_result"
    }
   ],
   "source": [
    "# Fix column compatibility - add text_length to old_tweets if missing\n",
    "if \"text_length\" not in old_tweets.columns:\n",
    "    old_tweets[\"text_length\"] = old_tweets[\"text\"].str.len()\n",
    "\n",
    "# Use pd.concat instead of deprecated append()\n",
    "all_tweets = pd.concat([old_tweets, tweets_df], ignore_index=True)\n",
    "print(f\"Combined dataset shape: {all_tweets.shape}\")\n",
    "print(f\"Old tweets: {len(old_tweets)}, New tweets: {len(tweets_df)}\")\n",
    "all_tweets.head()\n"
   ]
  },
  {
   "cell_type": "code",
   "execution_count": 57,
   "id": "f3e9f70a",
   "metadata": {},
   "outputs": [],
   "source": [
    "all_tweets.sort_values(by=\"created_at\", inplace=True)\n"
   ]
  },
  {
   "cell_type": "code",
   "execution_count": 58,
   "id": "16866705",
   "metadata": {},
   "outputs": [],
   "source": [
    "all_tweets.to_csv(\"data/spotify_ai_dj_all_tweets.csv\", index=False)\n"
   ]
  },
  {
   "cell_type": "code",
   "execution_count": null,
   "id": "b34ff46f",
   "metadata": {},
   "outputs": [],
   "source": []
  }
 ],
 "metadata": {
  "kernelspec": {
   "display_name": ".venv",
   "language": "python",
   "name": "python3"
  },
  "language_info": {
   "codemirror_mode": {
    "name": "ipython",
    "version": 3
   },
   "file_extension": ".py",
   "mimetype": "text/x-python",
   "name": "python",
   "nbconvert_exporter": "python",
   "pygments_lexer": "ipython3",
   "version": "3.12.2"
  }
 },
 "nbformat": 4,
 "nbformat_minor": 5
}
