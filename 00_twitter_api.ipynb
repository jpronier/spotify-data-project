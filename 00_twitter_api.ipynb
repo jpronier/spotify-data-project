{
 "cells": [
  {
   "cell_type": "code",
   "execution_count": 1,
   "id": "87c0cd61",
   "metadata": {},
   "outputs": [],
   "source": [
    "# libraries for Twitter data collection\n",
    "import pandas as pd\n",
    "import tweepy\n",
    "import time\n",
    "from datetime import datetime, timedelta\n",
    "import json\n",
    "import os\n",
    "import pickle\n",
    "import sys"
   ]
  },
  {
   "cell_type": "markdown",
   "id": "a4fc7f0c",
   "metadata": {},
   "source": [
    "### 1st test\n"
   ]
  },
  {
   "cell_type": "code",
   "execution_count": 2,
   "id": "ca06b5cc",
   "metadata": {},
   "outputs": [
    {
     "name": "stdout",
     "output_type": "stream",
     "text": [
      "API credentials found: True\n"
     ]
    }
   ],
   "source": [
    "# Twitter API Configuration\n",
    "\n",
    "BEARER_TOKEN = os.getenv(\"TWITTER_BEARER_TOKEN\")\n",
    "# API_KEY = os.getenv(\"TWITTER_API_KEY\")\n",
    "# API_SECRET = os.getenv(\"TWITTER_API_SECRET\")\n",
    "# ACCESS_TOKEN = os.getenv(\"TWITTER_ACCESS_TOKEN\")\n",
    "# ACCESS_TOKEN_SECRET = os.getenv(\"TWITTER_ACCESS_TOKEN_SECRET\")\n",
    "\n",
    "\n",
    "print(\"API credentials found:\", bool(BEARER_TOKEN))"
   ]
  },
  {
   "cell_type": "code",
   "execution_count": null,
   "id": "25b2902b",
   "metadata": {},
   "outputs": [],
   "source": [
    "# Initialize Twitter API client\n",
    "client = tweepy.Client(bearer_token=BEARER_TOKEN)\n",
    "print(\"Twitter client created successfully\")"
   ]
  },
  {
   "cell_type": "code",
   "execution_count": null,
   "id": "0c7b3898",
   "metadata": {},
   "outputs": [],
   "source": [
    "tweets_advanced = client.search_recent_tweets(\n",
    "    query=\"Spotify AI DJ OR Spotify DJ OR #SpotifyDJ OR Spotify DJ feature -is:retweet\",\n",
    "    max_results=90,\n",
    "    tweet_fields=[\n",
    "        \"created_at\",\n",
    "        \"public_metrics\",\n",
    "        \"author_id\",\n",
    "        \"lang\",  # Language detection\n",
    "        \"context_annotations\",\n",
    "        \"referenced_tweets\",\n",
    "    ],\n",
    ")"
   ]
  },
  {
   "cell_type": "code",
   "execution_count": null,
   "id": "3aa4d211",
   "metadata": {},
   "outputs": [],
   "source": [
    "len(tweets_advanced.data)"
   ]
  },
  {
   "cell_type": "code",
   "execution_count": null,
   "id": "b8bd4bac",
   "metadata": {},
   "outputs": [],
   "source": [
    "for tweet in tweets_advanced.data:\n",
    "    print(tweet.text)\n"
   ]
  },
  {
   "cell_type": "code",
   "execution_count": null,
   "id": "474011a3",
   "metadata": {},
   "outputs": [],
   "source": [
    "type(tweets_advanced)"
   ]
  },
  {
   "cell_type": "code",
   "execution_count": null,
   "id": "5b12f179",
   "metadata": {},
   "outputs": [],
   "source": [
    "with open(\"tweets_advanced.pkl\", \"wb\") as f:\n",
    "    pickle.dump(tweets_advanced, f)\n",
    "\n",
    "print(\"Saved raw tweets_advanced as pickle\")\n"
   ]
  },
  {
   "cell_type": "markdown",
   "id": "26b61ad5",
   "metadata": {},
   "source": [
    "### 2nd try\n"
   ]
  },
  {
   "cell_type": "code",
   "execution_count": 38,
   "id": "9afca37d",
   "metadata": {},
   "outputs": [
    {
     "name": "stdout",
     "output_type": "stream",
     "text": [
      "API credentials found: True\n"
     ]
    }
   ],
   "source": [
    "BEARER_TOKEN2 = os.getenv(\"TWITTER_BEARER_TOKEN2\")\n",
    "print(\"API credentials found:\", bool(BEARER_TOKEN2))"
   ]
  },
  {
   "cell_type": "code",
   "execution_count": 39,
   "id": "7ca3cb99",
   "metadata": {},
   "outputs": [
    {
     "name": "stdout",
     "output_type": "stream",
     "text": [
      "Twitter client created successfully\n"
     ]
    }
   ],
   "source": [
    "# Initialize Twitter API client\n",
    "client2 = tweepy.Client(bearer_token=BEARER_TOKEN2)\n",
    "print(\"Twitter client created successfully\")\n"
   ]
  },
  {
   "cell_type": "code",
   "execution_count": 40,
   "id": "da8138f0",
   "metadata": {},
   "outputs": [],
   "source": [
    "tweets_final = client2.search_recent_tweets(\n",
    "    query='Spotify \"AI DJ\" -#ai -#dj -is:retweet lang:en',\n",
    "    max_results=100,  # Max out limit\n",
    "    tweet_fields=[\n",
    "        \"created_at\",\n",
    "        \"public_metrics\",\n",
    "        \"author_id\",\n",
    "        \"lang\",\n",
    "        \"context_annotations\",\n",
    "        \"referenced_tweets\",\n",
    "    ],\n",
    ")\n"
   ]
  },
  {
   "cell_type": "code",
   "execution_count": 41,
   "id": "0c239c7d",
   "metadata": {},
   "outputs": [
    {
     "name": "stdout",
     "output_type": "stream",
     "text": [
      "This playlist gives Spotify AI DJ💀💀\n",
      "The Spotify AI DJ randomly played this today....it's a sign!\n",
      "#AJLee #Wrestlepalooza #Smackdown #WWERaw https://t.co/Q4H5dVi0a8\n",
      "@g0dbr34th3d Your playlist is amazing for real.\n",
      "\n",
      "Would recommend his playlist for reading, working and creating content.\n",
      "\n",
      "Mine mostly slow rap from @1GunnaGunna and cool songs, rhymes from drake.\n",
      "\n",
      "https://t.co/vntHjHCNGA\n",
      "\n",
      "Drake slow and melodic rap.\n",
      "\n",
      "https://t.co/eokqVPScvr\n",
      "\n",
      "My Spotify AI DJ, https://t.co/ZZiLhdu32C\n",
      "Makes sense that this is why the Spotify AI DJ is garbage. https://t.co/j2LUnUoR9X\n",
      "I’ve only just discovered Spotify AI Dj..\n",
      "my spotify AI DJ has been giving me bangers since 10pm last night\n",
      "A hack to know your most listened to artist even before Spotify wrapped, is asking the AI Dj, “Play my number one artist.”\n",
      "Looks like @ThePompi is still taking the lead, like he did in 2024 list. The consistency. 💯\n",
      "tried the spotify AI DJ and every new song it shows me is ass\n",
      "This my Spotify AI DJ too sabi wetin I like bro😊\n",
      "I think my Spotify AI dj is learning that I'm autistic and only like listening to the songs I already have on my playlist\n",
      "Anyone else find the @Spotify AI DJ to be highly annoying?   Speaks in ebonics and sounds like a thug-tard.\n",
      "@iam_flackoo @irys_xyz Man, that Spotify AI DJ sounds wild. Can't wait to see how Irys takes it to the next level with all that data magic. Mainnet's gonna be a game-changer, for sure.\n",
      "Hirys my @irys_xyz Maxiss 🫶🏽\n",
      "\n",
      "This morning, just before my workout I opened Spotify and noticed something new, the beta AI DJ. \n",
      "You can literally ask it for songs, change the vibe, adjust the tempo, and it curates everything on the fly. My friend saw it and said, “Woah, that’s https://t.co/JdiiQm87iF\n",
      "only Spotify AI DJ gon queue RALPH TRESVANT AFTER XANMAN😐😑😐 don’t piss me off.\n",
      "@idkshabnam Spotify AI DJ\n",
      "every once in a while the Spotify AI DJ locks the fuck in.\n",
      "I like this Spotify Ai DJ\n",
      "Spotify AI DJ .. yoo that's sick 🔥🔥\n",
      "#Spotify \n",
      "#music https://t.co/sIDz4Hzo27\n",
      "trying Spotify AI DJ for the first time and it's been cooking for the past 30 mins\n",
      "This new Spotify Ai DJ is lowkey the vibe curator\n",
      "I broke the Spotify AI DJ by saying this... \" Hey I'm on 🍄 right now. Could you just tone it down a little bit?\" \n",
      "\n",
      "Complete shutdown. 🤓\n",
      "My dad ♥️s that Spotify AI dj think and idk how 2 tell him “why are you friends with the guy who wants to take me&amp;my friends jobs”\n",
      "Spotify AI DJ told me to get a @KALIUCHIS Tattoo https://t.co/GO76ph1ax1\n",
      "just asked the Spotify AI dj to play me some Ethiopian jazz #eastlondon\n",
      "@Spotify your AI DJ is amazing lol\n",
      "accidentally clicked on Spotify AI dj while on aux https://t.co/yHMl4yjW8G\n",
      "I was talking to my coworkers and the Spotify ai dj started talking bro I wasn’t even in the app ?\n",
      "Hey @Spotify whatever that creepy ai “dj” thing was, Can you take that away forever? \n",
      "\n",
      "Literally who told brands we wanted them to make anthropomorphic ai versions of the algorithms? \n",
      "\n",
      "We knew how it worked. We were fine with it. Stop pandering you dorks.\n",
      "See amazing guides for Spotify.\n",
      "Enjoy Free Premium Features of Spotify.\n",
      "https://t.co/v1RRaRONLT\n",
      "https://t.co/jZd1H7UzfC\n",
      "https://t.co/ozkbXEdv4q\n",
      "https://t.co/5C4BL02mcX\n",
      "https://t.co/xScVe0ghbQ\n",
      "https://t.co/fZQe491dXO\n",
      "https://t.co/3SQbZgnPRb\n",
      "https://t.co/jFLmnjhxGm\n",
      "Sunday afternoon are for talking to AI Dj on Spotify waiting for football.\n",
      "Very disappointed in spotify. Their AI dj just gave me like 150 ass songs in a row, and apparently their frequency is inferior to apple music when audio is their whole thing? Spotify is cooked unless they start hiring some new talent and become a record company themself. Master\n",
      "Very disappointed in spotify. Their AI dj just gave me like 150 ass songs in a row, and apparently their frequency is inferior to apple music when audio is their whole thing? Spotify is cooled unless they start hiring some new talent and become a record company themself. Master\n",
      "@clairetuley But also this was more a slam on Spotify calling it AI DJ if they do more than u and ur margs\n",
      "I just heard the Spotify AI DJ talk for the first time and my jaw legit dropped. \n",
      "The only thing Apple Music get over these guys na light mode💔\n",
      "@cfr_choppaa It cool only be AI DJ on Spotify nothing new 😎\n",
      "@Philosedotsui @nexaxyz I swear Spotify ai Dj is a cruise master\n",
      "@cfr_choppaa I don do this thing with one AI DJ feature like that on Spotify. I go sha update my app\n",
      "i really just let the spotify ai dj play the entirety of mambo number 5 for me #happyfriday\n",
      "This new AI DJ from Spotify new features is so dumb mannn 😭💔\n",
      "3 key things that are deal breakers for me in the Spotify vs. Apple Music debate. If Apple would get on board with these, they could take the market.\n",
      "1. Jam\n",
      "2. AI DJ\n",
      "3. Radio stations from any song or artist\n",
      "I asked Spotify AI DJ to play the songs i enjoy the most,and it started with Davido’s lately,e too know ball🤩\n",
      "why did spotify ai dj just play the metamorphosis by franz kafka?\n",
      "having the Spotify Ai DJ say my name to feel something\n",
      "🎧🤖 Meet your new AI DJ on Spotify — spinning tracks just for YOU.\n",
      "No more skipping, just vibes perfectly mixed to match your mood.\n",
      "👉 Try it:https://t.co/Cfc0jD5IBm\n",
      "\n",
      "#SpotifyAIDJ #OnRepeat #AIBeats https://t.co/nd7B22DuRX\n",
      "@jaidenodavis @snseics1999 weird it’s exactly the “look” that i deeply dislike. maybe im used to spotify but apple music looks atrocious. i also like the public user playlists and the spotify ai dj they offer it actually plays rly good suggestions when i get tired of my own.i can’t imagine ever switching\n",
      "@realfancy225 @Spotify @JonahKagen @ThisIsRobThomas Totally agree—Spotify's edge in personalization, like Discover Weekly and AI DJ, makes exploring new music effortless. If you dive deeper, try blending playlists for custom mixes. Ready to make the full switch?\n",
      "@Spotify, can your AI DJ please stop sucking up to me? You've fallen into the trend of pacifying adults... My self-esteem is already too high.\n",
      "Ok Spotify is now using AI just to do song requests...\n",
      "\n",
      "Spotify’s AI DJ now takes requests\n",
      "https://t.co/M2VT21ImiX https://t.co/PVN08gUVlQ\n",
      "@doulbedoink only use spotify for the ai dj\n",
      "@ElectricSamurot @Augustus1772 @consequence It's Spotify ai dj he plays song you like and makes recommendations based on what you like\n",
      "These are questions like:\n",
      "\n",
      "• How would you measure GPT-5?\n",
      "• How would you assess Netflix's $400M bet?\n",
      "• Define success for Spotify's AI DJ feature.\n",
      "• How would you measure YouTube shorts? https://t.co/MKUpIuaGtD\n",
      "@lookitsjusttoy I'd pick Spotify for its superior AI-driven music discovery, like Discover Weekly and AI DJ, plus podcasts and a free tier. Apple Music has better lossless audio and Apple integration, but Spotify's recommendations keep things fresh. What's your choice?\n"
     ]
    }
   ],
   "source": [
    "for tweet in tweets_final.data:\n",
    "    print(tweet.text)\n"
   ]
  },
  {
   "cell_type": "code",
   "execution_count": 42,
   "id": "82fd6c14",
   "metadata": {},
   "outputs": [
    {
     "name": "stdout",
     "output_type": "stream",
     "text": [
      "Saved raw tweets_final as pickle\n"
     ]
    }
   ],
   "source": [
    "with open(\"tweets_final.pkl\", \"wb\") as f:\n",
    "    pickle.dump(tweets_final, f)\n",
    "\n",
    "print(\"Saved raw tweets_final as pickle\")\n"
   ]
  },
  {
   "cell_type": "markdown",
   "id": "e39e587d",
   "metadata": {},
   "source": [
    "### EDA\n"
   ]
  },
  {
   "cell_type": "markdown",
   "id": "b52b8a88",
   "metadata": {},
   "source": []
  },
  {
   "cell_type": "code",
   "execution_count": 22,
   "id": "fa278468",
   "metadata": {},
   "outputs": [],
   "source": [
    "# Use the same query that worked well\n",
    "tweets_available = client2.search_recent_tweets(\n",
    "    query='Spotify \"AI DJ\" -#ai -#dj -is:retweet lang:en',\n",
    "    max_results=47,\n",
    "    tweet_fields=[\n",
    "        \"created_at\",\n",
    "        \"public_metrics\",\n",
    "        \"author_id\",\n",
    "        \"lang\",\n",
    "        \"context_annotations\",\n",
    "        \"referenced_tweets\",\n",
    "    ],\n",
    ")\n"
   ]
  },
  {
   "cell_type": "code",
   "execution_count": 23,
   "id": "3b5ee7a9",
   "metadata": {},
   "outputs": [
    {
     "data": {
      "text/plain": [
       "47"
      ]
     },
     "execution_count": 23,
     "metadata": {},
     "output_type": "execute_result"
    }
   ],
   "source": [
    "len(tweets_available.data)\n"
   ]
  },
  {
   "cell_type": "code",
   "execution_count": 24,
   "id": "cb590d3b",
   "metadata": {},
   "outputs": [
    {
     "name": "stdout",
     "output_type": "stream",
     "text": [
      "1. This playlist gives Spotify AI DJ💀💀...\n",
      "2. The Spotify AI DJ randomly played this today....it's a sign!\n",
      "#AJLee #Wrestlepalooza #Smackdown #WWER...\n",
      "3. @g0dbr34th3d Your playlist is amazing for real.\n",
      "\n",
      "Would recommend his playlist for reading, working a...\n",
      "4. Makes sense that this is why the Spotify AI DJ is garbage. https://t.co/j2LUnUoR9X...\n",
      "5. I’ve only just discovered Spotify AI Dj.....\n"
     ]
    }
   ],
   "source": [
    "for i, tweet in enumerate(tweets_available.data[:5]):\n",
    "    print(f\"{i + 1}. {tweet.text[:100]}...\")\n"
   ]
  },
  {
   "cell_type": "code",
   "execution_count": 26,
   "id": "7a83d9c8",
   "metadata": {},
   "outputs": [
    {
     "name": "stdout",
     "output_type": "stream",
     "text": [
      "Tweet object type: <class 'tweepy.tweet.Tweet'>\n",
      "Available attributes: ['__abstractmethods__', '__class__', '__class_getitem__', '__contains__', '__delattr__', '__dir__', '__doc__', '__eq__', '__format__', '__ge__', '__getattr__', '__getattribute__', '__getitem__', '__getstate__', '__gt__', '__hash__', '__init__', '__init_subclass__', '__iter__', '__le__', '__len__', '__lt__', '__module__', '__ne__', '__new__', '__reduce__', '__reduce_ex__', '__repr__', '__reversed__', '__setattr__', '__sizeof__', '__slots__', '__str__', '__subclasshook__', '_abc_impl', 'attachments', 'author_id', 'context_annotations', 'conversation_id', 'created_at', 'data', 'edit_controls', 'edit_history_tweet_ids', 'entities', 'geo', 'get', 'id', 'in_reply_to_user_id', 'items', 'keys', 'lang', 'non_public_metrics', 'organic_metrics', 'possibly_sensitive', 'promoted_metrics', 'public_metrics', 'referenced_tweets', 'reply_settings', 'source', 'text', 'values', 'withheld']\n"
     ]
    }
   ],
   "source": [
    "# Explore tweet object structure\n",
    "first_tweet = tweets_available.data[0]\n",
    "print(\"Tweet object type:\", type(first_tweet))\n",
    "print(\"Available attributes:\", dir(first_tweet))\n"
   ]
  },
  {
   "cell_type": "code",
   "execution_count": 29,
   "id": "2bd7ac08",
   "metadata": {},
   "outputs": [
    {
     "name": "stdout",
     "output_type": "stream",
     "text": [
      "Tweet ID: 1963699578370220543\n",
      "Created at: 2025-09-04 20:23:57+00:00\n",
      "Text: This playlist gives Spotify AI DJ💀💀 [truncated]\n",
      "Author ID: 4913255457\n",
      "Language: en\n"
     ]
    }
   ],
   "source": [
    "# Check what data fields we have\n",
    "print(\"Tweet ID:\", first_tweet.id)\n",
    "print(\"Created at:\", first_tweet.created_at)\n",
    "print(\"Text:\", first_tweet.text[:160] + \" [truncated]\")\n",
    "print(\"Author ID:\", first_tweet.author_id)\n",
    "print(\"Language:\", first_tweet.lang)\n"
   ]
  },
  {
   "cell_type": "code",
   "execution_count": 30,
   "id": "ae1ade08",
   "metadata": {},
   "outputs": [
    {
     "name": "stdout",
     "output_type": "stream",
     "text": [
      "Public metrics: {'retweet_count': 0, 'reply_count': 0, 'like_count': 0, 'quote_count': 0, 'bookmark_count': 0, 'impression_count': 493}\n",
      "Like count: 0\n",
      "Retweet count: 0\n"
     ]
    }
   ],
   "source": [
    "# Check public metrics\n",
    "print(\"Public metrics:\", first_tweet.public_metrics)\n",
    "print(\"Like count:\", first_tweet.public_metrics[\"like_count\"])\n",
    "print(\"Retweet count:\", first_tweet.public_metrics[\"retweet_count\"])\n"
   ]
  },
  {
   "cell_type": "code",
   "execution_count": 31,
   "id": "5948a5b2",
   "metadata": {},
   "outputs": [
    {
     "name": "stdout",
     "output_type": "stream",
     "text": [
      "Context annotations: [{'domain': {'id': '45', 'name': 'Brand Vertical', 'description': 'Top level entities that describe a Brands industry'}, 'entity': {'id': '781974597310615553', 'name': 'Entertainment'}}, {'domain': {'id': '30', 'name': 'Entities [Entity Service]', 'description': 'Entity Service top level domain, every item that is in Entity Service should be in this domain'}, 'entity': {'id': '781974597222535168', 'name': 'Online Services - Entertainment'}}]\n"
     ]
    }
   ],
   "source": [
    "# Check context annotations (if available)\n",
    "if hasattr(first_tweet, \"context_annotations\") and first_tweet.context_annotations:\n",
    "    print(\"Context annotations:\", first_tweet.context_annotations[:2])\n",
    "else:\n",
    "    print(\"No context annotations available\")\n"
   ]
  },
  {
   "cell_type": "code",
   "execution_count": null,
   "id": "6bb043ba",
   "metadata": {},
   "outputs": [],
   "source": []
  },
  {
   "cell_type": "code",
   "execution_count": 32,
   "id": "e8dbdac0",
   "metadata": {},
   "outputs": [
    {
     "data": {
      "text/plain": [
       "47"
      ]
     },
     "execution_count": 32,
     "metadata": {},
     "output_type": "execute_result"
    }
   ],
   "source": [
    "# Check data we collected\n",
    "len(tweets_available.data)\n"
   ]
  },
  {
   "cell_type": "code",
   "execution_count": 33,
   "id": "1c25e735",
   "metadata": {},
   "outputs": [],
   "source": [
    "# Convert tweets to simple structure\n",
    "tweets_list = []\n",
    "for tweet in tweets_available.data:\n",
    "    tweets_list.append(\n",
    "        {\n",
    "            \"id\": tweet.id,\n",
    "            \"text\": tweet.text,\n",
    "            \"author_id\": tweet.author_id,\n",
    "            \"created_at\": tweet.created_at,\n",
    "            \"likes\": tweet.public_metrics[\"like_count\"],\n",
    "            \"retweets\": tweet.public_metrics[\"retweet_count\"],\n",
    "            \"replies\": tweet.public_metrics[\"reply_count\"],\n",
    "        }\n",
    "    )\n"
   ]
  },
  {
   "cell_type": "code",
   "execution_count": 34,
   "id": "6cbdb68a",
   "metadata": {},
   "outputs": [
    {
     "data": {
      "text/plain": [
       "(47, 7)"
      ]
     },
     "execution_count": 34,
     "metadata": {},
     "output_type": "execute_result"
    }
   ],
   "source": [
    "# Create DataFrame\n",
    "df = pd.DataFrame(tweets_list)\n",
    "df.shape\n"
   ]
  },
  {
   "cell_type": "code",
   "execution_count": 35,
   "id": "8982d5bb",
   "metadata": {},
   "outputs": [
    {
     "data": {
      "text/html": [
       "<div>\n",
       "<style scoped>\n",
       "    .dataframe tbody tr th:only-of-type {\n",
       "        vertical-align: middle;\n",
       "    }\n",
       "\n",
       "    .dataframe tbody tr th {\n",
       "        vertical-align: top;\n",
       "    }\n",
       "\n",
       "    .dataframe thead th {\n",
       "        text-align: right;\n",
       "    }\n",
       "</style>\n",
       "<table border=\"1\" class=\"dataframe\">\n",
       "  <thead>\n",
       "    <tr style=\"text-align: right;\">\n",
       "      <th></th>\n",
       "      <th>id</th>\n",
       "      <th>text</th>\n",
       "      <th>author_id</th>\n",
       "      <th>created_at</th>\n",
       "      <th>likes</th>\n",
       "      <th>retweets</th>\n",
       "      <th>replies</th>\n",
       "    </tr>\n",
       "  </thead>\n",
       "  <tbody>\n",
       "    <tr>\n",
       "      <th>0</th>\n",
       "      <td>1963699578370220543</td>\n",
       "      <td>This playlist gives Spotify AI DJ💀💀</td>\n",
       "      <td>4913255457</td>\n",
       "      <td>2025-09-04 20:23:57+00:00</td>\n",
       "      <td>0</td>\n",
       "      <td>0</td>\n",
       "      <td>0</td>\n",
       "    </tr>\n",
       "    <tr>\n",
       "      <th>1</th>\n",
       "      <td>1963692075439849536</td>\n",
       "      <td>The Spotify AI DJ randomly played this today.....</td>\n",
       "      <td>60245577</td>\n",
       "      <td>2025-09-04 19:54:09+00:00</td>\n",
       "      <td>0</td>\n",
       "      <td>0</td>\n",
       "      <td>0</td>\n",
       "    </tr>\n",
       "    <tr>\n",
       "      <th>2</th>\n",
       "      <td>1963646985556103628</td>\n",
       "      <td>@g0dbr34th3d Your playlist is amazing for real...</td>\n",
       "      <td>1495824184638906368</td>\n",
       "      <td>2025-09-04 16:54:58+00:00</td>\n",
       "      <td>0</td>\n",
       "      <td>0</td>\n",
       "      <td>0</td>\n",
       "    </tr>\n",
       "    <tr>\n",
       "      <th>3</th>\n",
       "      <td>1963624836846023034</td>\n",
       "      <td>Makes sense that this is why the Spotify AI DJ...</td>\n",
       "      <td>261881081</td>\n",
       "      <td>2025-09-04 15:26:58+00:00</td>\n",
       "      <td>6</td>\n",
       "      <td>1</td>\n",
       "      <td>1</td>\n",
       "    </tr>\n",
       "    <tr>\n",
       "      <th>4</th>\n",
       "      <td>1963616655533093015</td>\n",
       "      <td>I’ve only just discovered Spotify AI Dj..</td>\n",
       "      <td>33827542</td>\n",
       "      <td>2025-09-04 14:54:27+00:00</td>\n",
       "      <td>1</td>\n",
       "      <td>0</td>\n",
       "      <td>0</td>\n",
       "    </tr>\n",
       "  </tbody>\n",
       "</table>\n",
       "</div>"
      ],
      "text/plain": [
       "                    id                                               text  \\\n",
       "0  1963699578370220543                This playlist gives Spotify AI DJ💀💀   \n",
       "1  1963692075439849536  The Spotify AI DJ randomly played this today.....   \n",
       "2  1963646985556103628  @g0dbr34th3d Your playlist is amazing for real...   \n",
       "3  1963624836846023034  Makes sense that this is why the Spotify AI DJ...   \n",
       "4  1963616655533093015          I’ve only just discovered Spotify AI Dj..   \n",
       "\n",
       "             author_id                created_at  likes  retweets  replies  \n",
       "0           4913255457 2025-09-04 20:23:57+00:00      0         0        0  \n",
       "1             60245577 2025-09-04 19:54:09+00:00      0         0        0  \n",
       "2  1495824184638906368 2025-09-04 16:54:58+00:00      0         0        0  \n",
       "3            261881081 2025-09-04 15:26:58+00:00      6         1        1  \n",
       "4             33827542 2025-09-04 14:54:27+00:00      1         0        0  "
      ]
     },
     "execution_count": 35,
     "metadata": {},
     "output_type": "execute_result"
    }
   ],
   "source": [
    "# Quick overview\n",
    "df.head()\n"
   ]
  },
  {
   "cell_type": "code",
   "execution_count": null,
   "id": "a81b8de1",
   "metadata": {},
   "outputs": [],
   "source": [
    "# Save to CSV\n",
    "df.to_csv(\"data/spotify_ai_dj_tweets.csv\", index=False)\n"
   ]
  },
  {
   "cell_type": "markdown",
   "id": "0f1c41d7",
   "metadata": {},
   "source": [
    "## Pre-processing for Model\n"
   ]
  },
  {
   "cell_type": "code",
   "execution_count": null,
   "id": "9530cff4",
   "metadata": {},
   "outputs": [
    {
     "data": {
      "text/plain": [
       "(47, 7)"
      ]
     },
     "execution_count": 2,
     "metadata": {},
     "output_type": "execute_result"
    }
   ],
   "source": [
    "# Test reading the CSV back\n",
    "tweets_df = pd.read_csv(\"data/spotify_ai_dj_tweets.csv\")\n",
    "tweets_df.shape\n"
   ]
  },
  {
   "cell_type": "code",
   "execution_count": 3,
   "id": "4e0035e8",
   "metadata": {},
   "outputs": [
    {
     "name": "stdout",
     "output_type": "stream",
     "text": [
      "Dataset shape: (47, 7)\n",
      "\n",
      "Columns: ['id', 'text', 'author_id', 'created_at', 'likes', 'retweets', 'replies']\n",
      "\n",
      "Date range:\n",
      "From: 2025-08-29 09:21:16+00:00\n",
      "To: 2025-09-04 20:23:57+00:00\n"
     ]
    }
   ],
   "source": [
    "# Basic data exploration\n",
    "print(\"Dataset shape:\", tweets_df.shape)\n",
    "print(\"\\nColumns:\", tweets_df.columns.tolist())\n",
    "print(\"\\nDate range:\")\n",
    "print(\"From:\", tweets_df[\"created_at\"].min())\n",
    "print(\"To:\", tweets_df[\"created_at\"].max())\n"
   ]
  },
  {
   "cell_type": "code",
   "execution_count": 4,
   "id": "6ac1453d",
   "metadata": {},
   "outputs": [
    {
     "data": {
      "text/html": [
       "<div>\n",
       "<style scoped>\n",
       "    .dataframe tbody tr th:only-of-type {\n",
       "        vertical-align: middle;\n",
       "    }\n",
       "\n",
       "    .dataframe tbody tr th {\n",
       "        vertical-align: top;\n",
       "    }\n",
       "\n",
       "    .dataframe thead th {\n",
       "        text-align: right;\n",
       "    }\n",
       "</style>\n",
       "<table border=\"1\" class=\"dataframe\">\n",
       "  <thead>\n",
       "    <tr style=\"text-align: right;\">\n",
       "      <th></th>\n",
       "      <th>likes</th>\n",
       "      <th>retweets</th>\n",
       "      <th>replies</th>\n",
       "    </tr>\n",
       "  </thead>\n",
       "  <tbody>\n",
       "    <tr>\n",
       "      <th>count</th>\n",
       "      <td>47.000000</td>\n",
       "      <td>47.000000</td>\n",
       "      <td>47.000000</td>\n",
       "    </tr>\n",
       "    <tr>\n",
       "      <th>mean</th>\n",
       "      <td>5.000000</td>\n",
       "      <td>0.510638</td>\n",
       "      <td>1.191489</td>\n",
       "    </tr>\n",
       "    <tr>\n",
       "      <th>std</th>\n",
       "      <td>13.859544</td>\n",
       "      <td>2.062842</td>\n",
       "      <td>3.762737</td>\n",
       "    </tr>\n",
       "    <tr>\n",
       "      <th>min</th>\n",
       "      <td>0.000000</td>\n",
       "      <td>0.000000</td>\n",
       "      <td>0.000000</td>\n",
       "    </tr>\n",
       "    <tr>\n",
       "      <th>25%</th>\n",
       "      <td>0.000000</td>\n",
       "      <td>0.000000</td>\n",
       "      <td>0.000000</td>\n",
       "    </tr>\n",
       "    <tr>\n",
       "      <th>50%</th>\n",
       "      <td>0.000000</td>\n",
       "      <td>0.000000</td>\n",
       "      <td>0.000000</td>\n",
       "    </tr>\n",
       "    <tr>\n",
       "      <th>75%</th>\n",
       "      <td>2.500000</td>\n",
       "      <td>0.000000</td>\n",
       "      <td>1.000000</td>\n",
       "    </tr>\n",
       "    <tr>\n",
       "      <th>max</th>\n",
       "      <td>67.000000</td>\n",
       "      <td>11.000000</td>\n",
       "      <td>23.000000</td>\n",
       "    </tr>\n",
       "  </tbody>\n",
       "</table>\n",
       "</div>"
      ],
      "text/plain": [
       "           likes   retweets    replies\n",
       "count  47.000000  47.000000  47.000000\n",
       "mean    5.000000   0.510638   1.191489\n",
       "std    13.859544   2.062842   3.762737\n",
       "min     0.000000   0.000000   0.000000\n",
       "25%     0.000000   0.000000   0.000000\n",
       "50%     0.000000   0.000000   0.000000\n",
       "75%     2.500000   0.000000   1.000000\n",
       "max    67.000000  11.000000  23.000000"
      ]
     },
     "execution_count": 4,
     "metadata": {},
     "output_type": "execute_result"
    }
   ],
   "source": [
    "# Engagement metrics overview\n",
    "tweets_df[[\"likes\", \"retweets\", \"replies\"]].describe()\n"
   ]
  },
  {
   "cell_type": "code",
   "execution_count": 7,
   "id": "a55816a2",
   "metadata": {},
   "outputs": [
    {
     "data": {
      "text/plain": [
       "count     47.000000\n",
       "mean     124.425532\n",
       "std       86.057803\n",
       "min       25.000000\n",
       "25%       62.500000\n",
       "50%       91.000000\n",
       "75%      163.500000\n",
       "max      317.000000\n",
       "Name: text_length, dtype: float64"
      ]
     },
     "execution_count": 7,
     "metadata": {},
     "output_type": "execute_result"
    }
   ],
   "source": [
    "# Text length analysis\n",
    "tweets_df[\"text_length\"] = tweets_df[\"text\"].str.len()\n",
    "tweets_df[\"text_length\"].describe()\n"
   ]
  },
  {
   "cell_type": "code",
   "execution_count": 5,
   "id": "fdf38503",
   "metadata": {},
   "outputs": [
    {
     "data": {
      "text/html": [
       "<div>\n",
       "<style scoped>\n",
       "    .dataframe tbody tr th:only-of-type {\n",
       "        vertical-align: middle;\n",
       "    }\n",
       "\n",
       "    .dataframe tbody tr th {\n",
       "        vertical-align: top;\n",
       "    }\n",
       "\n",
       "    .dataframe thead th {\n",
       "        text-align: right;\n",
       "    }\n",
       "</style>\n",
       "<table border=\"1\" class=\"dataframe\">\n",
       "  <thead>\n",
       "    <tr style=\"text-align: right;\">\n",
       "      <th></th>\n",
       "      <th>text</th>\n",
       "      <th>likes</th>\n",
       "      <th>retweets</th>\n",
       "    </tr>\n",
       "  </thead>\n",
       "  <tbody>\n",
       "    <tr>\n",
       "      <th>40</th>\n",
       "      <td>I asked Spotify AI DJ to play the songs i enjo...</td>\n",
       "      <td>67</td>\n",
       "      <td>9</td>\n",
       "    </tr>\n",
       "    <tr>\n",
       "      <th>7</th>\n",
       "      <td>tried the spotify AI DJ and every new song it ...</td>\n",
       "      <td>61</td>\n",
       "      <td>0</td>\n",
       "    </tr>\n",
       "    <tr>\n",
       "      <th>12</th>\n",
       "      <td>Hirys my @irys_xyz Maxiss 🫶🏽\\n\\nThis morning, ...</td>\n",
       "      <td>32</td>\n",
       "      <td>2</td>\n",
       "    </tr>\n",
       "    <tr>\n",
       "      <th>8</th>\n",
       "      <td>This my Spotify AI DJ too sabi wetin I like bro😊</td>\n",
       "      <td>23</td>\n",
       "      <td>11</td>\n",
       "    </tr>\n",
       "    <tr>\n",
       "      <th>9</th>\n",
       "      <td>I think my Spotify AI dj is learning that I'm ...</td>\n",
       "      <td>9</td>\n",
       "      <td>0</td>\n",
       "    </tr>\n",
       "  </tbody>\n",
       "</table>\n",
       "</div>"
      ],
      "text/plain": [
       "                                                 text  likes  retweets\n",
       "40  I asked Spotify AI DJ to play the songs i enjo...     67         9\n",
       "7   tried the spotify AI DJ and every new song it ...     61         0\n",
       "12  Hirys my @irys_xyz Maxiss 🫶🏽\\n\\nThis morning, ...     32         2\n",
       "8    This my Spotify AI DJ too sabi wetin I like bro😊     23        11\n",
       "9   I think my Spotify AI dj is learning that I'm ...      9         0"
      ]
     },
     "execution_count": 5,
     "metadata": {},
     "output_type": "execute_result"
    }
   ],
   "source": [
    "# Most engaging tweets\n",
    "top_tweets = tweets_df.nlargest(5, \"likes\")[[\"text\", \"likes\", \"retweets\"]]\n",
    "top_tweets\n"
   ]
  },
  {
   "cell_type": "code",
   "execution_count": 6,
   "id": "5222023b",
   "metadata": {},
   "outputs": [
    {
     "data": {
      "text/plain": [
       "['This playlist gives Spotify AI DJ💀💀',\n",
       " \"The Spotify AI DJ randomly played this today....it's a sign!\\n#AJLee #Wrestlepalooza #Smackdown #WWERaw https://t.co/Q4H5dVi0a8\",\n",
       " '@g0dbr34th3d Your playlist is amazing for real.\\n\\nWould recommend his playlist for reading, working and creating content.\\n\\nMine mostly slow rap from @1GunnaGunna and cool songs, rhymes from drake.\\n\\nhttps://t.co/vntHjHCNGA\\n\\nDrake slow and melodic rap.\\n\\nhttps://t.co/eokqVPScvr\\n\\nMy Spotify AI DJ, https://t.co/ZZiLhdu32C',\n",
       " 'Makes sense that this is why the Spotify AI DJ is garbage. https://t.co/j2LUnUoR9X',\n",
       " 'I’ve only just discovered Spotify AI Dj..',\n",
       " 'my spotify AI DJ has been giving me bangers since 10pm last night',\n",
       " 'A hack to know your most listened to artist even before Spotify wrapped, is asking the AI Dj, “Play my number one artist.”\\nLooks like @ThePompi is still taking the lead, like he did in 2024 list. The consistency. 💯',\n",
       " 'tried the spotify AI DJ and every new song it shows me is ass',\n",
       " 'This my Spotify AI DJ too sabi wetin I like bro😊',\n",
       " \"I think my Spotify AI dj is learning that I'm autistic and only like listening to the songs I already have on my playlist\"]"
      ]
     },
     "execution_count": 6,
     "metadata": {},
     "output_type": "execute_result"
    }
   ],
   "source": [
    "# Quick content check - sample tweets\n",
    "tweets_df[\"text\"].head(10).tolist()\n"
   ]
  },
  {
   "cell_type": "code",
   "execution_count": 7,
   "id": "670de349",
   "metadata": {},
   "outputs": [
    {
     "name": "stdout",
     "output_type": "stream",
     "text": [
      "Tweets with URLs: 9 out of 47\n"
     ]
    }
   ],
   "source": [
    "# Check URLs in tweets\n",
    "url_tweets = tweets_df[tweets_df[\"text\"].str.contains(\"http\", case=False, na=False)]\n",
    "print(f\"Tweets with URLs: {len(url_tweets)} out of {len(tweets_df)}\")\n"
   ]
  },
  {
   "cell_type": "code",
   "execution_count": 8,
   "id": "d8bd8b93",
   "metadata": {},
   "outputs": [
    {
     "data": {
      "text/html": [
       "<div>\n",
       "<style scoped>\n",
       "    .dataframe tbody tr th:only-of-type {\n",
       "        vertical-align: middle;\n",
       "    }\n",
       "\n",
       "    .dataframe tbody tr th {\n",
       "        vertical-align: top;\n",
       "    }\n",
       "\n",
       "    .dataframe thead th {\n",
       "        text-align: right;\n",
       "    }\n",
       "</style>\n",
       "<table border=\"1\" class=\"dataframe\">\n",
       "  <thead>\n",
       "    <tr style=\"text-align: right;\">\n",
       "      <th></th>\n",
       "      <th>text</th>\n",
       "      <th>likes</th>\n",
       "    </tr>\n",
       "  </thead>\n",
       "  <tbody>\n",
       "    <tr>\n",
       "      <th>1</th>\n",
       "      <td>The Spotify AI DJ randomly played this today.....</td>\n",
       "      <td>0</td>\n",
       "    </tr>\n",
       "    <tr>\n",
       "      <th>2</th>\n",
       "      <td>@g0dbr34th3d Your playlist is amazing for real...</td>\n",
       "      <td>0</td>\n",
       "    </tr>\n",
       "    <tr>\n",
       "      <th>3</th>\n",
       "      <td>Makes sense that this is why the Spotify AI DJ...</td>\n",
       "      <td>6</td>\n",
       "    </tr>\n",
       "  </tbody>\n",
       "</table>\n",
       "</div>"
      ],
      "text/plain": [
       "                                                text  likes\n",
       "1  The Spotify AI DJ randomly played this today.....      0\n",
       "2  @g0dbr34th3d Your playlist is amazing for real...      0\n",
       "3  Makes sense that this is why the Spotify AI DJ...      6"
      ]
     },
     "execution_count": 8,
     "metadata": {},
     "output_type": "execute_result"
    }
   ],
   "source": [
    "# Sample tweets with URLs\n",
    "url_tweets[[\"text\", \"likes\"]].head(3)\n"
   ]
  },
  {
   "cell_type": "code",
   "execution_count": 9,
   "id": "005b2fa2",
   "metadata": {},
   "outputs": [],
   "source": [
    "# Function for cardiffnlp model preprocessing\n",
    "def preprocess_for_sentiment(text):\n",
    "    new_text = []\n",
    "    for t in text.split(\" \"):\n",
    "        t = \"@user\" if t.startswith(\"@\") and len(t) > 1 else t\n",
    "        t = \"http\" if t.startswith(\"http\") else t\n",
    "        new_text.append(t)\n",
    "    return \" \".join(new_text)\n"
   ]
  },
  {
   "cell_type": "code",
   "execution_count": 10,
   "id": "94a71f7d",
   "metadata": {},
   "outputs": [
    {
     "name": "stdout",
     "output_type": "stream",
     "text": [
      "Original: This playlist gives Spotify AI DJ💀💀...\n",
      "Processed: This playlist gives Spotify AI DJ💀💀...\n",
      "\n",
      "Original: The Spotify AI DJ randomly played this today....it's a sign!\n",
      "#AJLee #Wrestlepalo...\n",
      "Processed: The Spotify AI DJ randomly played this today....it's a sign!\n",
      "#AJLee #Wrestlepalo...\n",
      "\n",
      "Original: @g0dbr34th3d Your playlist is amazing for real.\n",
      "\n",
      "Would recommend his playlist fo...\n",
      "Processed: @user Your playlist is amazing for real.\n",
      "\n",
      "Would recommend his playlist for readi...\n",
      "\n"
     ]
    }
   ],
   "source": [
    "# Test preprocessing on sample tweets\n",
    "sample_tweets = tweets_df[\"text\"].head(3).tolist()\n",
    "for i, tweet in enumerate(sample_tweets):\n",
    "    print(f\"Original: {tweet[:80]}...\")\n",
    "    print(f\"Processed: {preprocess_for_sentiment(tweet)[:80]}...\")\n",
    "    print()\n"
   ]
  },
  {
   "cell_type": "code",
   "execution_count": 11,
   "id": "4e5dc030",
   "metadata": {},
   "outputs": [],
   "source": [
    "# Apply preprocessing to all tweets\n",
    "tweets_df[\"text_clean\"] = tweets_df[\"text\"].apply(preprocess_for_sentiment)\n"
   ]
  },
  {
   "cell_type": "code",
   "execution_count": 12,
   "id": "fe6ed84f",
   "metadata": {},
   "outputs": [
    {
     "data": {
      "text/html": [
       "<div>\n",
       "<style scoped>\n",
       "    .dataframe tbody tr th:only-of-type {\n",
       "        vertical-align: middle;\n",
       "    }\n",
       "\n",
       "    .dataframe tbody tr th {\n",
       "        vertical-align: top;\n",
       "    }\n",
       "\n",
       "    .dataframe thead th {\n",
       "        text-align: right;\n",
       "    }\n",
       "</style>\n",
       "<table border=\"1\" class=\"dataframe\">\n",
       "  <thead>\n",
       "    <tr style=\"text-align: right;\">\n",
       "      <th></th>\n",
       "      <th>text</th>\n",
       "      <th>text_clean</th>\n",
       "    </tr>\n",
       "  </thead>\n",
       "  <tbody>\n",
       "    <tr>\n",
       "      <th>0</th>\n",
       "      <td>This playlist gives Spotify AI DJ💀💀</td>\n",
       "      <td>This playlist gives Spotify AI DJ💀💀</td>\n",
       "    </tr>\n",
       "    <tr>\n",
       "      <th>1</th>\n",
       "      <td>The Spotify AI DJ randomly played this today.....</td>\n",
       "      <td>The Spotify AI DJ randomly played this today.....</td>\n",
       "    </tr>\n",
       "    <tr>\n",
       "      <th>2</th>\n",
       "      <td>@g0dbr34th3d Your playlist is amazing for real...</td>\n",
       "      <td>@user Your playlist is amazing for real.\\n\\nWo...</td>\n",
       "    </tr>\n",
       "  </tbody>\n",
       "</table>\n",
       "</div>"
      ],
      "text/plain": [
       "                                                text  \\\n",
       "0                This playlist gives Spotify AI DJ💀💀   \n",
       "1  The Spotify AI DJ randomly played this today.....   \n",
       "2  @g0dbr34th3d Your playlist is amazing for real...   \n",
       "\n",
       "                                          text_clean  \n",
       "0                This playlist gives Spotify AI DJ💀💀  \n",
       "1  The Spotify AI DJ randomly played this today.....  \n",
       "2  @user Your playlist is amazing for real.\\n\\nWo...  "
      ]
     },
     "execution_count": 12,
     "metadata": {},
     "output_type": "execute_result"
    }
   ],
   "source": [
    "# Check preprocessing results\n",
    "tweets_df[[\"text\", \"text_clean\"]].head(3)\n"
   ]
  },
  {
   "cell_type": "code",
   "execution_count": null,
   "id": "b49d5d94",
   "metadata": {},
   "outputs": [
    {
     "name": "stdout",
     "output_type": "stream",
     "text": [
      "Saved clean dataset with 47 tweets\n"
     ]
    }
   ],
   "source": [
    "# Save clean data for sentiment analysis\n",
    "tweets_df.to_csv(\"data/spotify_ai_dj_tweets_clean.csv\", index=False)\n",
    "print(\"Saved clean dataset with\", len(tweets_df), \"tweets\")\n"
   ]
  },
  {
   "cell_type": "code",
   "execution_count": 16,
   "id": "caaf4655",
   "metadata": {},
   "outputs": [
    {
     "name": "stdout",
     "output_type": "stream",
     "text": [
      "Original:\n",
      "'@g0dbr34th3d Your playlist is amazing for real.\\n\\nWould recommend his playlist for reading, working and creating content.\\n\\nMine mostly slow rap from @1GunnaGunna and cool songs, rhymes from drake.\\n\\nhttps://t.co/vntHjHCNGA\\n\\nDrake slow and melodic rap.\\n\\nhttps://t.co/eokqVPScvr\\n\\nMy Spotify AI DJ, https://t.co/ZZiLhdu32C'\n",
      "\n",
      "Cleaned:\n",
      "'@user Your playlist is amazing for real.\\n\\nWould recommend his playlist for reading, working and creating content.\\n\\nMine mostly slow rap from @user and cool songs, rhymes from drake.\\n\\nhttps://t.co/vntHjHCNGA\\n\\nDrake slow and melodic rap.\\n\\nhttps://t.co/eokqVPScvr\\n\\nMy Spotify AI DJ, http'\n"
     ]
    }
   ],
   "source": [
    "# Check one example to see full preprocessing\n",
    "print(\"Original:\")\n",
    "print(repr(tweets_df.iloc[2][\"text\"]))\n",
    "print(\"\\nCleaned:\")\n",
    "print(repr(tweets_df.iloc[2][\"text_clean\"]))\n"
   ]
  },
  {
   "cell_type": "code",
   "execution_count": 3,
   "id": "08d3f902",
   "metadata": {},
   "outputs": [
    {
     "data": {
      "text/html": [
       "<div>\n",
       "<style scoped>\n",
       "    .dataframe tbody tr th:only-of-type {\n",
       "        vertical-align: middle;\n",
       "    }\n",
       "\n",
       "    .dataframe tbody tr th {\n",
       "        vertical-align: top;\n",
       "    }\n",
       "\n",
       "    .dataframe thead th {\n",
       "        text-align: right;\n",
       "    }\n",
       "</style>\n",
       "<table border=\"1\" class=\"dataframe\">\n",
       "  <thead>\n",
       "    <tr style=\"text-align: right;\">\n",
       "      <th></th>\n",
       "      <th>id</th>\n",
       "      <th>text</th>\n",
       "      <th>author_id</th>\n",
       "      <th>created_at</th>\n",
       "      <th>likes</th>\n",
       "      <th>retweets</th>\n",
       "      <th>replies</th>\n",
       "    </tr>\n",
       "  </thead>\n",
       "  <tbody>\n",
       "    <tr>\n",
       "      <th>0</th>\n",
       "      <td>1963699578370220543</td>\n",
       "      <td>This playlist gives Spotify AI DJ💀💀</td>\n",
       "      <td>4913255457</td>\n",
       "      <td>2025-09-04 20:23:57+00:00</td>\n",
       "      <td>0</td>\n",
       "      <td>0</td>\n",
       "      <td>0</td>\n",
       "    </tr>\n",
       "    <tr>\n",
       "      <th>1</th>\n",
       "      <td>1963692075439849536</td>\n",
       "      <td>The Spotify AI DJ randomly played this today.....</td>\n",
       "      <td>60245577</td>\n",
       "      <td>2025-09-04 19:54:09+00:00</td>\n",
       "      <td>0</td>\n",
       "      <td>0</td>\n",
       "      <td>0</td>\n",
       "    </tr>\n",
       "    <tr>\n",
       "      <th>2</th>\n",
       "      <td>1963646985556103628</td>\n",
       "      <td>@g0dbr34th3d Your playlist is amazing for real...</td>\n",
       "      <td>1495824184638906368</td>\n",
       "      <td>2025-09-04 16:54:58+00:00</td>\n",
       "      <td>0</td>\n",
       "      <td>0</td>\n",
       "      <td>0</td>\n",
       "    </tr>\n",
       "    <tr>\n",
       "      <th>3</th>\n",
       "      <td>1963624836846023034</td>\n",
       "      <td>Makes sense that this is why the Spotify AI DJ...</td>\n",
       "      <td>261881081</td>\n",
       "      <td>2025-09-04 15:26:58+00:00</td>\n",
       "      <td>6</td>\n",
       "      <td>1</td>\n",
       "      <td>1</td>\n",
       "    </tr>\n",
       "    <tr>\n",
       "      <th>4</th>\n",
       "      <td>1963616655533093015</td>\n",
       "      <td>I’ve only just discovered Spotify AI Dj..</td>\n",
       "      <td>33827542</td>\n",
       "      <td>2025-09-04 14:54:27+00:00</td>\n",
       "      <td>1</td>\n",
       "      <td>0</td>\n",
       "      <td>0</td>\n",
       "    </tr>\n",
       "    <tr>\n",
       "      <th>5</th>\n",
       "      <td>1963507663838326942</td>\n",
       "      <td>my spotify AI DJ has been giving me bangers si...</td>\n",
       "      <td>1196494936620883968</td>\n",
       "      <td>2025-09-04 07:41:21+00:00</td>\n",
       "      <td>0</td>\n",
       "      <td>0</td>\n",
       "      <td>0</td>\n",
       "    </tr>\n",
       "    <tr>\n",
       "      <th>6</th>\n",
       "      <td>1963483143970681319</td>\n",
       "      <td>A hack to know your most listened to artist ev...</td>\n",
       "      <td>1215007756412960770</td>\n",
       "      <td>2025-09-04 06:03:55+00:00</td>\n",
       "      <td>5</td>\n",
       "      <td>0</td>\n",
       "      <td>0</td>\n",
       "    </tr>\n",
       "    <tr>\n",
       "      <th>7</th>\n",
       "      <td>1963383137381355697</td>\n",
       "      <td>tried the spotify AI DJ and every new song it ...</td>\n",
       "      <td>1333790361425088512</td>\n",
       "      <td>2025-09-03 23:26:32+00:00</td>\n",
       "      <td>61</td>\n",
       "      <td>0</td>\n",
       "      <td>11</td>\n",
       "    </tr>\n",
       "    <tr>\n",
       "      <th>8</th>\n",
       "      <td>1963287445371589034</td>\n",
       "      <td>This my Spotify AI DJ too sabi wetin I like bro😊</td>\n",
       "      <td>950392713068908550</td>\n",
       "      <td>2025-09-03 17:06:17+00:00</td>\n",
       "      <td>23</td>\n",
       "      <td>11</td>\n",
       "      <td>7</td>\n",
       "    </tr>\n",
       "    <tr>\n",
       "      <th>9</th>\n",
       "      <td>1963242497158566208</td>\n",
       "      <td>I think my Spotify AI dj is learning that I'm ...</td>\n",
       "      <td>1919802974253264896</td>\n",
       "      <td>2025-09-03 14:07:41+00:00</td>\n",
       "      <td>9</td>\n",
       "      <td>0</td>\n",
       "      <td>2</td>\n",
       "    </tr>\n",
       "    <tr>\n",
       "      <th>10</th>\n",
       "      <td>1963222342529675512</td>\n",
       "      <td>Anyone else find the @Spotify AI DJ to be high...</td>\n",
       "      <td>1270509613457313793</td>\n",
       "      <td>2025-09-03 12:47:36+00:00</td>\n",
       "      <td>2</td>\n",
       "      <td>0</td>\n",
       "      <td>1</td>\n",
       "    </tr>\n",
       "    <tr>\n",
       "      <th>11</th>\n",
       "      <td>1963145452200874411</td>\n",
       "      <td>@iam_flackoo @irys_xyz Man, that Spotify AI DJ...</td>\n",
       "      <td>1574424440099799043</td>\n",
       "      <td>2025-09-03 07:42:03+00:00</td>\n",
       "      <td>1</td>\n",
       "      <td>0</td>\n",
       "      <td>1</td>\n",
       "    </tr>\n",
       "    <tr>\n",
       "      <th>12</th>\n",
       "      <td>1963141336053240043</td>\n",
       "      <td>Hirys my @irys_xyz Maxiss 🫶🏽\\n\\nThis morning, ...</td>\n",
       "      <td>1053051348336422915</td>\n",
       "      <td>2025-09-03 07:25:42+00:00</td>\n",
       "      <td>32</td>\n",
       "      <td>2</td>\n",
       "      <td>23</td>\n",
       "    </tr>\n",
       "    <tr>\n",
       "      <th>13</th>\n",
       "      <td>1963029164145172593</td>\n",
       "      <td>only Spotify AI DJ gon queue RALPH TRESVANT AF...</td>\n",
       "      <td>1166954479314329600</td>\n",
       "      <td>2025-09-02 23:59:58+00:00</td>\n",
       "      <td>0</td>\n",
       "      <td>0</td>\n",
       "      <td>0</td>\n",
       "    </tr>\n",
       "    <tr>\n",
       "      <th>14</th>\n",
       "      <td>1962973453176476004</td>\n",
       "      <td>@idkshabnam Spotify AI DJ</td>\n",
       "      <td>1707258450298937344</td>\n",
       "      <td>2025-09-02 20:18:36+00:00</td>\n",
       "      <td>1</td>\n",
       "      <td>0</td>\n",
       "      <td>0</td>\n",
       "    </tr>\n",
       "    <tr>\n",
       "      <th>15</th>\n",
       "      <td>1962948365399752954</td>\n",
       "      <td>every once in a while the Spotify AI DJ locks ...</td>\n",
       "      <td>952198434</td>\n",
       "      <td>2025-09-02 18:38:54+00:00</td>\n",
       "      <td>0</td>\n",
       "      <td>1</td>\n",
       "      <td>0</td>\n",
       "    </tr>\n",
       "    <tr>\n",
       "      <th>16</th>\n",
       "      <td>1962943747060052073</td>\n",
       "      <td>I like this Spotify Ai DJ</td>\n",
       "      <td>958662550748565505</td>\n",
       "      <td>2025-09-02 18:20:33+00:00</td>\n",
       "      <td>0</td>\n",
       "      <td>0</td>\n",
       "      <td>0</td>\n",
       "    </tr>\n",
       "    <tr>\n",
       "      <th>17</th>\n",
       "      <td>1962908893681520884</td>\n",
       "      <td>Spotify AI DJ .. yoo that's sick 🔥🔥\\n#Spotify ...</td>\n",
       "      <td>1519399919295025152</td>\n",
       "      <td>2025-09-02 16:02:03+00:00</td>\n",
       "      <td>0</td>\n",
       "      <td>0</td>\n",
       "      <td>0</td>\n",
       "    </tr>\n",
       "    <tr>\n",
       "      <th>18</th>\n",
       "      <td>1962778446553079864</td>\n",
       "      <td>trying Spotify AI DJ for the first time and it...</td>\n",
       "      <td>1758036531413921792</td>\n",
       "      <td>2025-09-02 07:23:42+00:00</td>\n",
       "      <td>0</td>\n",
       "      <td>0</td>\n",
       "      <td>0</td>\n",
       "    </tr>\n",
       "    <tr>\n",
       "      <th>19</th>\n",
       "      <td>1962611851046343128</td>\n",
       "      <td>This new Spotify Ai DJ is lowkey the vibe curator</td>\n",
       "      <td>1931915904977383424</td>\n",
       "      <td>2025-09-01 20:21:43+00:00</td>\n",
       "      <td>0</td>\n",
       "      <td>0</td>\n",
       "      <td>0</td>\n",
       "    </tr>\n",
       "    <tr>\n",
       "      <th>20</th>\n",
       "      <td>1962580701091336261</td>\n",
       "      <td>I broke the Spotify AI DJ by saying this... \" ...</td>\n",
       "      <td>1831737344619130880</td>\n",
       "      <td>2025-09-01 18:17:56+00:00</td>\n",
       "      <td>0</td>\n",
       "      <td>0</td>\n",
       "      <td>0</td>\n",
       "    </tr>\n",
       "    <tr>\n",
       "      <th>21</th>\n",
       "      <td>1962555887555318201</td>\n",
       "      <td>My dad ♥️s that Spotify AI dj think and idk ho...</td>\n",
       "      <td>1266106400163483654</td>\n",
       "      <td>2025-09-01 16:39:20+00:00</td>\n",
       "      <td>4</td>\n",
       "      <td>0</td>\n",
       "      <td>1</td>\n",
       "    </tr>\n",
       "    <tr>\n",
       "      <th>22</th>\n",
       "      <td>1962547962183057579</td>\n",
       "      <td>Spotify AI DJ told me to get a @KALIUCHIS Tatt...</td>\n",
       "      <td>1522006184630579200</td>\n",
       "      <td>2025-09-01 16:07:51+00:00</td>\n",
       "      <td>0</td>\n",
       "      <td>0</td>\n",
       "      <td>1</td>\n",
       "    </tr>\n",
       "    <tr>\n",
       "      <th>23</th>\n",
       "      <td>1962543651273220396</td>\n",
       "      <td>just asked the Spotify AI dj to play me some E...</td>\n",
       "      <td>593132577</td>\n",
       "      <td>2025-09-01 15:50:43+00:00</td>\n",
       "      <td>1</td>\n",
       "      <td>0</td>\n",
       "      <td>0</td>\n",
       "    </tr>\n",
       "    <tr>\n",
       "      <th>24</th>\n",
       "      <td>1962490040010821944</td>\n",
       "      <td>@Spotify your AI DJ is amazing lol</td>\n",
       "      <td>816947592802209792</td>\n",
       "      <td>2025-09-01 12:17:41+00:00</td>\n",
       "      <td>1</td>\n",
       "      <td>0</td>\n",
       "      <td>0</td>\n",
       "    </tr>\n",
       "    <tr>\n",
       "      <th>25</th>\n",
       "      <td>1962439302513562059</td>\n",
       "      <td>accidentally clicked on Spotify AI dj while on...</td>\n",
       "      <td>1020782136230666241</td>\n",
       "      <td>2025-09-01 08:56:04+00:00</td>\n",
       "      <td>4</td>\n",
       "      <td>0</td>\n",
       "      <td>0</td>\n",
       "    </tr>\n",
       "    <tr>\n",
       "      <th>26</th>\n",
       "      <td>1962297288560197761</td>\n",
       "      <td>I was talking to my coworkers and the Spotify ...</td>\n",
       "      <td>1676988551118848009</td>\n",
       "      <td>2025-08-31 23:31:45+00:00</td>\n",
       "      <td>1</td>\n",
       "      <td>0</td>\n",
       "      <td>0</td>\n",
       "    </tr>\n",
       "    <tr>\n",
       "      <th>27</th>\n",
       "      <td>1962185610031931732</td>\n",
       "      <td>Hey @Spotify whatever that creepy ai “dj” thin...</td>\n",
       "      <td>1219657426422595584</td>\n",
       "      <td>2025-08-31 16:07:59+00:00</td>\n",
       "      <td>0</td>\n",
       "      <td>0</td>\n",
       "      <td>0</td>\n",
       "    </tr>\n",
       "    <tr>\n",
       "      <th>28</th>\n",
       "      <td>1962140080736203057</td>\n",
       "      <td>See amazing guides for Spotify.\\nEnjoy Free Pr...</td>\n",
       "      <td>1805103218948722688</td>\n",
       "      <td>2025-08-31 13:07:04+00:00</td>\n",
       "      <td>0</td>\n",
       "      <td>0</td>\n",
       "      <td>0</td>\n",
       "    </tr>\n",
       "    <tr>\n",
       "      <th>29</th>\n",
       "      <td>1962106839761379654</td>\n",
       "      <td>Sunday afternoon are for talking to AI Dj on S...</td>\n",
       "      <td>1252890499150745600</td>\n",
       "      <td>2025-08-31 10:54:59+00:00</td>\n",
       "      <td>0</td>\n",
       "      <td>0</td>\n",
       "      <td>0</td>\n",
       "    </tr>\n",
       "    <tr>\n",
       "      <th>30</th>\n",
       "      <td>1961954591010075098</td>\n",
       "      <td>Very disappointed in spotify. Their AI dj just...</td>\n",
       "      <td>792051291035869184</td>\n",
       "      <td>2025-08-31 00:50:00+00:00</td>\n",
       "      <td>0</td>\n",
       "      <td>0</td>\n",
       "      <td>0</td>\n",
       "    </tr>\n",
       "    <tr>\n",
       "      <th>31</th>\n",
       "      <td>1961954484420247884</td>\n",
       "      <td>Very disappointed in spotify. Their AI dj just...</td>\n",
       "      <td>792051291035869184</td>\n",
       "      <td>2025-08-31 00:49:35+00:00</td>\n",
       "      <td>0</td>\n",
       "      <td>0</td>\n",
       "      <td>0</td>\n",
       "    </tr>\n",
       "    <tr>\n",
       "      <th>32</th>\n",
       "      <td>1961930700355170424</td>\n",
       "      <td>@clairetuley But also this was more a slam on ...</td>\n",
       "      <td>18817499</td>\n",
       "      <td>2025-08-30 23:15:04+00:00</td>\n",
       "      <td>1</td>\n",
       "      <td>0</td>\n",
       "      <td>1</td>\n",
       "    </tr>\n",
       "    <tr>\n",
       "      <th>33</th>\n",
       "      <td>1961839324812415202</td>\n",
       "      <td>I just heard the Spotify AI DJ talk for the fi...</td>\n",
       "      <td>1260953045971722240</td>\n",
       "      <td>2025-08-30 17:11:58+00:00</td>\n",
       "      <td>0</td>\n",
       "      <td>0</td>\n",
       "      <td>2</td>\n",
       "    </tr>\n",
       "    <tr>\n",
       "      <th>34</th>\n",
       "      <td>1961827104326095149</td>\n",
       "      <td>@cfr_choppaa It cool only be AI DJ on Spotify ...</td>\n",
       "      <td>1594747191163330561</td>\n",
       "      <td>2025-08-30 16:23:25+00:00</td>\n",
       "      <td>0</td>\n",
       "      <td>0</td>\n",
       "      <td>0</td>\n",
       "    </tr>\n",
       "    <tr>\n",
       "      <th>35</th>\n",
       "      <td>1961764209395409312</td>\n",
       "      <td>@Philosedotsui @nexaxyz I swear Spotify ai Dj ...</td>\n",
       "      <td>1960450485153849344</td>\n",
       "      <td>2025-08-30 12:13:29+00:00</td>\n",
       "      <td>0</td>\n",
       "      <td>0</td>\n",
       "      <td>0</td>\n",
       "    </tr>\n",
       "    <tr>\n",
       "      <th>36</th>\n",
       "      <td>1961748427735199962</td>\n",
       "      <td>@cfr_choppaa I don do this thing with one AI D...</td>\n",
       "      <td>1902074311684546560</td>\n",
       "      <td>2025-08-30 11:10:47+00:00</td>\n",
       "      <td>3</td>\n",
       "      <td>0</td>\n",
       "      <td>1</td>\n",
       "    </tr>\n",
       "    <tr>\n",
       "      <th>37</th>\n",
       "      <td>1961638232535568421</td>\n",
       "      <td>i really just let the spotify ai dj play the e...</td>\n",
       "      <td>1581011382706774017</td>\n",
       "      <td>2025-08-30 03:52:54+00:00</td>\n",
       "      <td>0</td>\n",
       "      <td>0</td>\n",
       "      <td>0</td>\n",
       "    </tr>\n",
       "    <tr>\n",
       "      <th>38</th>\n",
       "      <td>1961514302625481169</td>\n",
       "      <td>This new AI DJ from Spotify new features is so...</td>\n",
       "      <td>1609655578959249408</td>\n",
       "      <td>2025-08-29 19:40:27+00:00</td>\n",
       "      <td>0</td>\n",
       "      <td>0</td>\n",
       "      <td>0</td>\n",
       "    </tr>\n",
       "    <tr>\n",
       "      <th>39</th>\n",
       "      <td>1961513507972927893</td>\n",
       "      <td>3 key things that are deal breakers for me in ...</td>\n",
       "      <td>1514628117586976768</td>\n",
       "      <td>2025-08-29 19:37:18+00:00</td>\n",
       "      <td>0</td>\n",
       "      <td>0</td>\n",
       "      <td>0</td>\n",
       "    </tr>\n",
       "    <tr>\n",
       "      <th>40</th>\n",
       "      <td>1961489740240224756</td>\n",
       "      <td>I asked Spotify AI DJ to play the songs i enjo...</td>\n",
       "      <td>1912586722975838213</td>\n",
       "      <td>2025-08-29 18:02:51+00:00</td>\n",
       "      <td>67</td>\n",
       "      <td>9</td>\n",
       "      <td>1</td>\n",
       "    </tr>\n",
       "    <tr>\n",
       "      <th>41</th>\n",
       "      <td>1961463766899364313</td>\n",
       "      <td>why did spotify ai dj just play the metamorpho...</td>\n",
       "      <td>2723574657</td>\n",
       "      <td>2025-08-29 16:19:38+00:00</td>\n",
       "      <td>4</td>\n",
       "      <td>0</td>\n",
       "      <td>1</td>\n",
       "    </tr>\n",
       "    <tr>\n",
       "      <th>42</th>\n",
       "      <td>1961449992477970463</td>\n",
       "      <td>having the Spotify Ai DJ say my name to feel s...</td>\n",
       "      <td>747967587888271360</td>\n",
       "      <td>2025-08-29 15:24:54+00:00</td>\n",
       "      <td>1</td>\n",
       "      <td>0</td>\n",
       "      <td>1</td>\n",
       "    </tr>\n",
       "    <tr>\n",
       "      <th>43</th>\n",
       "      <td>1961390483772514589</td>\n",
       "      <td>🎧🤖 Meet your new AI DJ on Spotify — spinning t...</td>\n",
       "      <td>1936411644998893568</td>\n",
       "      <td>2025-08-29 11:28:26+00:00</td>\n",
       "      <td>0</td>\n",
       "      <td>0</td>\n",
       "      <td>0</td>\n",
       "    </tr>\n",
       "    <tr>\n",
       "      <th>44</th>\n",
       "      <td>1961387792279429319</td>\n",
       "      <td>@jaidenodavis @snseics1999 weird it’s exactly ...</td>\n",
       "      <td>1433597023576420365</td>\n",
       "      <td>2025-08-29 11:17:45+00:00</td>\n",
       "      <td>6</td>\n",
       "      <td>0</td>\n",
       "      <td>0</td>\n",
       "    </tr>\n",
       "    <tr>\n",
       "      <th>45</th>\n",
       "      <td>1961360088419205571</td>\n",
       "      <td>@realfancy225 @Spotify @JonahKagen @ThisIsRobT...</td>\n",
       "      <td>1720665183188922368</td>\n",
       "      <td>2025-08-29 09:27:40+00:00</td>\n",
       "      <td>0</td>\n",
       "      <td>0</td>\n",
       "      <td>0</td>\n",
       "    </tr>\n",
       "    <tr>\n",
       "      <th>46</th>\n",
       "      <td>1961358481375518801</td>\n",
       "      <td>@Spotify, can your AI DJ please stop sucking u...</td>\n",
       "      <td>1310212024253775872</td>\n",
       "      <td>2025-08-29 09:21:16+00:00</td>\n",
       "      <td>1</td>\n",
       "      <td>0</td>\n",
       "      <td>1</td>\n",
       "    </tr>\n",
       "  </tbody>\n",
       "</table>\n",
       "</div>"
      ],
      "text/plain": [
       "                     id                                               text  \\\n",
       "0   1963699578370220543                This playlist gives Spotify AI DJ💀💀   \n",
       "1   1963692075439849536  The Spotify AI DJ randomly played this today.....   \n",
       "2   1963646985556103628  @g0dbr34th3d Your playlist is amazing for real...   \n",
       "3   1963624836846023034  Makes sense that this is why the Spotify AI DJ...   \n",
       "4   1963616655533093015          I’ve only just discovered Spotify AI Dj..   \n",
       "5   1963507663838326942  my spotify AI DJ has been giving me bangers si...   \n",
       "6   1963483143970681319  A hack to know your most listened to artist ev...   \n",
       "7   1963383137381355697  tried the spotify AI DJ and every new song it ...   \n",
       "8   1963287445371589034   This my Spotify AI DJ too sabi wetin I like bro😊   \n",
       "9   1963242497158566208  I think my Spotify AI dj is learning that I'm ...   \n",
       "10  1963222342529675512  Anyone else find the @Spotify AI DJ to be high...   \n",
       "11  1963145452200874411  @iam_flackoo @irys_xyz Man, that Spotify AI DJ...   \n",
       "12  1963141336053240043  Hirys my @irys_xyz Maxiss 🫶🏽\\n\\nThis morning, ...   \n",
       "13  1963029164145172593  only Spotify AI DJ gon queue RALPH TRESVANT AF...   \n",
       "14  1962973453176476004                          @idkshabnam Spotify AI DJ   \n",
       "15  1962948365399752954  every once in a while the Spotify AI DJ locks ...   \n",
       "16  1962943747060052073                          I like this Spotify Ai DJ   \n",
       "17  1962908893681520884  Spotify AI DJ .. yoo that's sick 🔥🔥\\n#Spotify ...   \n",
       "18  1962778446553079864  trying Spotify AI DJ for the first time and it...   \n",
       "19  1962611851046343128  This new Spotify Ai DJ is lowkey the vibe curator   \n",
       "20  1962580701091336261  I broke the Spotify AI DJ by saying this... \" ...   \n",
       "21  1962555887555318201  My dad ♥️s that Spotify AI dj think and idk ho...   \n",
       "22  1962547962183057579  Spotify AI DJ told me to get a @KALIUCHIS Tatt...   \n",
       "23  1962543651273220396  just asked the Spotify AI dj to play me some E...   \n",
       "24  1962490040010821944                 @Spotify your AI DJ is amazing lol   \n",
       "25  1962439302513562059  accidentally clicked on Spotify AI dj while on...   \n",
       "26  1962297288560197761  I was talking to my coworkers and the Spotify ...   \n",
       "27  1962185610031931732  Hey @Spotify whatever that creepy ai “dj” thin...   \n",
       "28  1962140080736203057  See amazing guides for Spotify.\\nEnjoy Free Pr...   \n",
       "29  1962106839761379654  Sunday afternoon are for talking to AI Dj on S...   \n",
       "30  1961954591010075098  Very disappointed in spotify. Their AI dj just...   \n",
       "31  1961954484420247884  Very disappointed in spotify. Their AI dj just...   \n",
       "32  1961930700355170424  @clairetuley But also this was more a slam on ...   \n",
       "33  1961839324812415202  I just heard the Spotify AI DJ talk for the fi...   \n",
       "34  1961827104326095149  @cfr_choppaa It cool only be AI DJ on Spotify ...   \n",
       "35  1961764209395409312  @Philosedotsui @nexaxyz I swear Spotify ai Dj ...   \n",
       "36  1961748427735199962  @cfr_choppaa I don do this thing with one AI D...   \n",
       "37  1961638232535568421  i really just let the spotify ai dj play the e...   \n",
       "38  1961514302625481169  This new AI DJ from Spotify new features is so...   \n",
       "39  1961513507972927893  3 key things that are deal breakers for me in ...   \n",
       "40  1961489740240224756  I asked Spotify AI DJ to play the songs i enjo...   \n",
       "41  1961463766899364313  why did spotify ai dj just play the metamorpho...   \n",
       "42  1961449992477970463  having the Spotify Ai DJ say my name to feel s...   \n",
       "43  1961390483772514589  🎧🤖 Meet your new AI DJ on Spotify — spinning t...   \n",
       "44  1961387792279429319  @jaidenodavis @snseics1999 weird it’s exactly ...   \n",
       "45  1961360088419205571  @realfancy225 @Spotify @JonahKagen @ThisIsRobT...   \n",
       "46  1961358481375518801  @Spotify, can your AI DJ please stop sucking u...   \n",
       "\n",
       "              author_id                 created_at  likes  retweets  replies  \n",
       "0            4913255457  2025-09-04 20:23:57+00:00      0         0        0  \n",
       "1              60245577  2025-09-04 19:54:09+00:00      0         0        0  \n",
       "2   1495824184638906368  2025-09-04 16:54:58+00:00      0         0        0  \n",
       "3             261881081  2025-09-04 15:26:58+00:00      6         1        1  \n",
       "4              33827542  2025-09-04 14:54:27+00:00      1         0        0  \n",
       "5   1196494936620883968  2025-09-04 07:41:21+00:00      0         0        0  \n",
       "6   1215007756412960770  2025-09-04 06:03:55+00:00      5         0        0  \n",
       "7   1333790361425088512  2025-09-03 23:26:32+00:00     61         0       11  \n",
       "8    950392713068908550  2025-09-03 17:06:17+00:00     23        11        7  \n",
       "9   1919802974253264896  2025-09-03 14:07:41+00:00      9         0        2  \n",
       "10  1270509613457313793  2025-09-03 12:47:36+00:00      2         0        1  \n",
       "11  1574424440099799043  2025-09-03 07:42:03+00:00      1         0        1  \n",
       "12  1053051348336422915  2025-09-03 07:25:42+00:00     32         2       23  \n",
       "13  1166954479314329600  2025-09-02 23:59:58+00:00      0         0        0  \n",
       "14  1707258450298937344  2025-09-02 20:18:36+00:00      1         0        0  \n",
       "15            952198434  2025-09-02 18:38:54+00:00      0         1        0  \n",
       "16   958662550748565505  2025-09-02 18:20:33+00:00      0         0        0  \n",
       "17  1519399919295025152  2025-09-02 16:02:03+00:00      0         0        0  \n",
       "18  1758036531413921792  2025-09-02 07:23:42+00:00      0         0        0  \n",
       "19  1931915904977383424  2025-09-01 20:21:43+00:00      0         0        0  \n",
       "20  1831737344619130880  2025-09-01 18:17:56+00:00      0         0        0  \n",
       "21  1266106400163483654  2025-09-01 16:39:20+00:00      4         0        1  \n",
       "22  1522006184630579200  2025-09-01 16:07:51+00:00      0         0        1  \n",
       "23            593132577  2025-09-01 15:50:43+00:00      1         0        0  \n",
       "24   816947592802209792  2025-09-01 12:17:41+00:00      1         0        0  \n",
       "25  1020782136230666241  2025-09-01 08:56:04+00:00      4         0        0  \n",
       "26  1676988551118848009  2025-08-31 23:31:45+00:00      1         0        0  \n",
       "27  1219657426422595584  2025-08-31 16:07:59+00:00      0         0        0  \n",
       "28  1805103218948722688  2025-08-31 13:07:04+00:00      0         0        0  \n",
       "29  1252890499150745600  2025-08-31 10:54:59+00:00      0         0        0  \n",
       "30   792051291035869184  2025-08-31 00:50:00+00:00      0         0        0  \n",
       "31   792051291035869184  2025-08-31 00:49:35+00:00      0         0        0  \n",
       "32             18817499  2025-08-30 23:15:04+00:00      1         0        1  \n",
       "33  1260953045971722240  2025-08-30 17:11:58+00:00      0         0        2  \n",
       "34  1594747191163330561  2025-08-30 16:23:25+00:00      0         0        0  \n",
       "35  1960450485153849344  2025-08-30 12:13:29+00:00      0         0        0  \n",
       "36  1902074311684546560  2025-08-30 11:10:47+00:00      3         0        1  \n",
       "37  1581011382706774017  2025-08-30 03:52:54+00:00      0         0        0  \n",
       "38  1609655578959249408  2025-08-29 19:40:27+00:00      0         0        0  \n",
       "39  1514628117586976768  2025-08-29 19:37:18+00:00      0         0        0  \n",
       "40  1912586722975838213  2025-08-29 18:02:51+00:00     67         9        1  \n",
       "41           2723574657  2025-08-29 16:19:38+00:00      4         0        1  \n",
       "42   747967587888271360  2025-08-29 15:24:54+00:00      1         0        1  \n",
       "43  1936411644998893568  2025-08-29 11:28:26+00:00      0         0        0  \n",
       "44  1433597023576420365  2025-08-29 11:17:45+00:00      6         0        0  \n",
       "45  1720665183188922368  2025-08-29 09:27:40+00:00      0         0        0  \n",
       "46  1310212024253775872  2025-08-29 09:21:16+00:00      1         0        1  "
      ]
     },
     "execution_count": 3,
     "metadata": {},
     "output_type": "execute_result"
    }
   ],
   "source": [
    "tweets_df\n"
   ]
  },
  {
   "cell_type": "code",
   "execution_count": null,
   "id": "fea42332",
   "metadata": {},
   "outputs": [],
   "source": []
  }
 ],
 "metadata": {
  "kernelspec": {
   "display_name": ".venv",
   "language": "python",
   "name": "python3"
  },
  "language_info": {
   "codemirror_mode": {
    "name": "ipython",
    "version": 3
   },
   "file_extension": ".py",
   "mimetype": "text/x-python",
   "name": "python",
   "nbconvert_exporter": "python",
   "pygments_lexer": "ipython3",
   "version": "3.12.2"
  }
 },
 "nbformat": 4,
 "nbformat_minor": 5
}
