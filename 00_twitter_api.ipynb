{
 "cells": [
  {
   "cell_type": "code",
   "execution_count": 5,
   "id": "87c0cd61",
   "metadata": {},
   "outputs": [],
   "source": [
    "# libraries for Twitter data collection\n",
    "import pandas as pd\n",
    "import tweepy\n",
    "import time\n",
    "from datetime import datetime, timedelta\n",
    "import json\n",
    "import os\n",
    "import pickle\n",
    "import sys"
   ]
  },
  {
   "cell_type": "markdown",
   "id": "a4fc7f0c",
   "metadata": {},
   "source": [
    "### 1st test\n"
   ]
  },
  {
   "cell_type": "code",
   "execution_count": 2,
   "id": "ca06b5cc",
   "metadata": {},
   "outputs": [
    {
     "name": "stdout",
     "output_type": "stream",
     "text": [
      "API credentials found: True\n"
     ]
    }
   ],
   "source": [
    "# Twitter API Configuration\n",
    "\n",
    "BEARER_TOKEN = os.getenv(\"TWITTER_BEARER_TOKEN\")\n",
    "# API_KEY = os.getenv(\"TWITTER_API_KEY\")\n",
    "# API_SECRET = os.getenv(\"TWITTER_API_SECRET\")\n",
    "# ACCESS_TOKEN = os.getenv(\"TWITTER_ACCESS_TOKEN\")\n",
    "# ACCESS_TOKEN_SECRET = os.getenv(\"TWITTER_ACCESS_TOKEN_SECRET\")\n",
    "\n",
    "\n",
    "print(\"API credentials found:\", bool(BEARER_TOKEN))"
   ]
  },
  {
   "cell_type": "code",
   "execution_count": null,
   "id": "25b2902b",
   "metadata": {},
   "outputs": [],
   "source": [
    "# Initialize Twitter API client\n",
    "client = tweepy.Client(bearer_token=BEARER_TOKEN)\n",
    "print(\"Twitter client created successfully\")"
   ]
  },
  {
   "cell_type": "code",
   "execution_count": null,
   "id": "0c7b3898",
   "metadata": {},
   "outputs": [],
   "source": [
    "tweets_advanced = client.search_recent_tweets(\n",
    "    query=\"Spotify AI DJ OR Spotify DJ OR #SpotifyDJ OR Spotify DJ feature -is:retweet\",\n",
    "    max_results=90,\n",
    "    tweet_fields=[\n",
    "        \"created_at\",\n",
    "        \"public_metrics\",\n",
    "        \"author_id\",\n",
    "        \"lang\",  # Language detection\n",
    "        \"context_annotations\",\n",
    "        \"referenced_tweets\",\n",
    "    ],\n",
    ")"
   ]
  },
  {
   "cell_type": "code",
   "execution_count": null,
   "id": "3aa4d211",
   "metadata": {},
   "outputs": [],
   "source": [
    "len(tweets_advanced.data)"
   ]
  },
  {
   "cell_type": "code",
   "execution_count": null,
   "id": "b8bd4bac",
   "metadata": {},
   "outputs": [],
   "source": [
    "for tweet in tweets_advanced.data:\n",
    "    print(tweet.text)\n"
   ]
  },
  {
   "cell_type": "code",
   "execution_count": null,
   "id": "474011a3",
   "metadata": {},
   "outputs": [],
   "source": [
    "type(tweets_advanced)"
   ]
  },
  {
   "cell_type": "code",
   "execution_count": null,
   "id": "5b12f179",
   "metadata": {},
   "outputs": [],
   "source": [
    "with open(\"tweets_advanced.pkl\", \"wb\") as f:\n",
    "    pickle.dump(tweets_advanced, f)\n",
    "\n",
    "print(\"Saved raw tweets_advanced as pickle\")\n"
   ]
  },
  {
   "cell_type": "markdown",
   "id": "26b61ad5",
   "metadata": {},
   "source": [
    "### 2nd try\n"
   ]
  },
  {
   "cell_type": "code",
   "execution_count": 20,
   "id": "9afca37d",
   "metadata": {},
   "outputs": [
    {
     "name": "stdout",
     "output_type": "stream",
     "text": [
      "API credentials found: True\n"
     ]
    }
   ],
   "source": [
    "BEARER_TOKEN2 = os.getenv(\"TWITTER_BEARER_TOKEN2\")\n",
    "print(\"API credentials found:\", bool(BEARER_TOKEN2))"
   ]
  },
  {
   "cell_type": "code",
   "execution_count": 21,
   "id": "7ca3cb99",
   "metadata": {},
   "outputs": [
    {
     "name": "stdout",
     "output_type": "stream",
     "text": [
      "Twitter client created successfully\n"
     ]
    }
   ],
   "source": [
    "# Initialize Twitter API client\n",
    "client2 = tweepy.Client(bearer_token=BEARER_TOKEN2)\n",
    "print(\"Twitter client created successfully\")\n"
   ]
  },
  {
   "cell_type": "code",
   "execution_count": 5,
   "id": "da8138f0",
   "metadata": {},
   "outputs": [],
   "source": [
    "tweets_final = client2.search_recent_tweets(\n",
    "    query='Spotify \"AI DJ\" -#ai -#dj -is:retweet lang:en',\n",
    "    max_results=100,  # Max out limit\n",
    "    tweet_fields=[\n",
    "        \"created_at\",\n",
    "        \"public_metrics\",\n",
    "        \"author_id\",\n",
    "        \"lang\",\n",
    "        \"context_annotations\",\n",
    "        \"referenced_tweets\",\n",
    "    ],\n",
    ")\n"
   ]
  },
  {
   "cell_type": "code",
   "execution_count": null,
   "id": "0c239c7d",
   "metadata": {},
   "outputs": [
    {
     "name": "stdout",
     "output_type": "stream",
     "text": [
      "@g0dbr34th3d Your playlist is amazing for real.\n",
      "\n",
      "Would recommend his playlist for reading, working and creating content.\n",
      "\n",
      "Mine mostly slow rap from @1GunnaGunna and cool songs, rhymes from drake.\n",
      "\n",
      "https://t.co/vntHjHCNGA\n",
      "\n",
      "Drake slow and melodic rap.\n",
      "\n",
      "https://t.co/eokqVPScvr\n",
      "\n",
      "My Spotify AI DJ, https://t.co/ZZiLhdu32C\n",
      "Makes sense that this is why the Spotify AI DJ is garbage. https://t.co/j2LUnUoR9X\n",
      "I’ve only just discovered Spotify AI Dj..\n",
      "my spotify AI DJ has been giving me bangers since 10pm last night\n",
      "A hack to know your most listened to artist even before Spotify wrapped, is asking the AI Dj, “Play my number one artist.”\n",
      "Looks like @ThePompi is still taking the lead, like he did in 2024 list. The consistency. 💯\n",
      "tried the spotify AI DJ and every new song it shows me is ass\n",
      "This my Spotify AI DJ too sabi wetin I like bro😊\n",
      "I think my Spotify AI dj is learning that I'm autistic and only like listening to the songs I already have on my playlist\n",
      "Anyone else find the @Spotify AI DJ to be highly annoying?   Speaks in ebonics and sounds like a thug-tard.\n",
      "@iam_flackoo @irys_xyz Man, that Spotify AI DJ sounds wild. Can't wait to see how Irys takes it to the next level with all that data magic. Mainnet's gonna be a game-changer, for sure.\n",
      "Hirys my @irys_xyz Maxiss 🫶🏽\n",
      "\n",
      "This morning, just before my workout I opened Spotify and noticed something new, the beta AI DJ. \n",
      "You can literally ask it for songs, change the vibe, adjust the tempo, and it curates everything on the fly. My friend saw it and said, “Woah, that’s https://t.co/JdiiQm87iF\n",
      "only Spotify AI DJ gon queue RALPH TRESVANT AFTER XANMAN😐😑😐 don’t piss me off.\n",
      "@idkshabnam Spotify AI DJ\n",
      "every once in a while the Spotify AI DJ locks the fuck in.\n",
      "I like this Spotify Ai DJ\n",
      "Spotify AI DJ .. yoo that's sick 🔥🔥\n",
      "#Spotify \n",
      "#music https://t.co/sIDz4Hzo27\n",
      "trying Spotify AI DJ for the first time and it's been cooking for the past 30 mins\n",
      "This new Spotify Ai DJ is lowkey the vibe curator\n",
      "I broke the Spotify AI DJ by saying this... \" Hey I'm on 🍄 right now. Could you just tone it down a little bit?\" \n",
      "\n",
      "Complete shutdown. 🤓\n",
      "My dad ♥️s that Spotify AI dj think and idk how 2 tell him “why are you friends with the guy who wants to take me&amp;my friends jobs”\n",
      "Spotify AI DJ told me to get a @KALIUCHIS Tattoo https://t.co/GO76ph1ax1\n",
      "just asked the Spotify AI dj to play me some Ethiopian jazz #eastlondon\n",
      "@Spotify your AI DJ is amazing lol\n",
      "accidentally clicked on Spotify AI dj while on aux https://t.co/yHMl4yjW8G\n",
      "I was talking to my coworkers and the Spotify ai dj started talking bro I wasn’t even in the app ?\n",
      "Hey @Spotify whatever that creepy ai “dj” thing was, Can you take that away forever? \n",
      "\n",
      "Literally who told brands we wanted them to make anthropomorphic ai versions of the algorithms? \n",
      "\n",
      "We knew how it worked. We were fine with it. Stop pandering you dorks.\n",
      "See amazing guides for Spotify.\n",
      "Enjoy Free Premium Features of Spotify.\n",
      "https://t.co/v1RRaRONLT\n",
      "https://t.co/jZd1H7UzfC\n",
      "https://t.co/ozkbXEdv4q\n",
      "https://t.co/5C4BL02mcX\n",
      "https://t.co/xScVe0ghbQ\n",
      "https://t.co/fZQe491dXO\n",
      "https://t.co/3SQbZgnPRb\n",
      "https://t.co/jFLmnjhxGm\n",
      "Sunday afternoon are for talking to AI Dj on Spotify waiting for football.\n",
      "Very disappointed in spotify. Their AI dj just gave me like 150 ass songs in a row, and apparently their frequency is inferior to apple music when audio is their whole thing? Spotify is cooked unless they start hiring some new talent and become a record company themself. Master\n",
      "Very disappointed in spotify. Their AI dj just gave me like 150 ass songs in a row, and apparently their frequency is inferior to apple music when audio is their whole thing? Spotify is cooled unless they start hiring some new talent and become a record company themself. Master\n",
      "@clairetuley But also this was more a slam on Spotify calling it AI DJ if they do more than u and ur margs\n",
      "I just heard the Spotify AI DJ talk for the first time and my jaw legit dropped. \n",
      "The only thing Apple Music get over these guys na light mode💔\n",
      "@cfr_choppaa It cool only be AI DJ on Spotify nothing new 😎\n",
      "@Philosedotsui @nexaxyz I swear Spotify ai Dj is a cruise master\n",
      "@cfr_choppaa I don do this thing with one AI DJ feature like that on Spotify. I go sha update my app\n",
      "i really just let the spotify ai dj play the entirety of mambo number 5 for me #happyfriday\n",
      "This new AI DJ from Spotify new features is so dumb mannn 😭💔\n",
      "3 key things that are deal breakers for me in the Spotify vs. Apple Music debate. If Apple would get on board with these, they could take the market.\n",
      "1. Jam\n",
      "2. AI DJ\n",
      "3. Radio stations from any song or artist\n",
      "I asked Spotify AI DJ to play the songs i enjoy the most,and it started with Davido’s lately,e too know ball🤩\n",
      "why did spotify ai dj just play the metamorphosis by franz kafka?\n",
      "having the Spotify Ai DJ say my name to feel something\n",
      "🎧🤖 Meet your new AI DJ on Spotify — spinning tracks just for YOU.\n",
      "No more skipping, just vibes perfectly mixed to match your mood.\n",
      "👉 Try it:https://t.co/Cfc0jD5IBm\n",
      "\n",
      "#SpotifyAIDJ #OnRepeat #AIBeats https://t.co/nd7B22DuRX\n",
      "@jaidenodavis @snseics1999 weird it’s exactly the “look” that i deeply dislike. maybe im used to spotify but apple music looks atrocious. i also like the public user playlists and the spotify ai dj they offer it actually plays rly good suggestions when i get tired of my own.i can’t imagine ever switching\n",
      "@realfancy225 @Spotify @JonahKagen @ThisIsRobThomas Totally agree—Spotify's edge in personalization, like Discover Weekly and AI DJ, makes exploring new music effortless. If you dive deeper, try blending playlists for custom mixes. Ready to make the full switch?\n",
      "@Spotify, can your AI DJ please stop sucking up to me? You've fallen into the trend of pacifying adults... My self-esteem is already too high.\n",
      "Ok Spotify is now using AI just to do song requests...\n",
      "\n",
      "Spotify’s AI DJ now takes requests\n",
      "https://t.co/M2VT21ImiX https://t.co/PVN08gUVlQ\n",
      "@doulbedoink only use spotify for the ai dj\n",
      "@ElectricSamurot @Augustus1772 @consequence It's Spotify ai dj he plays song you like and makes recommendations based on what you like\n",
      "These are questions like:\n",
      "\n",
      "• How would you measure GPT-5?\n",
      "• How would you assess Netflix's $400M bet?\n",
      "• Define success for Spotify's AI DJ feature.\n",
      "• How would you measure YouTube shorts? https://t.co/MKUpIuaGtD\n",
      "@lookitsjusttoy I'd pick Spotify for its superior AI-driven music discovery, like Discover Weekly and AI DJ, plus podcasts and a free tier. Apple Music has better lossless audio and Apple integration, but Spotify's recommendations keep things fresh. What's your choice?\n",
      "The ppl using Apple Music over Spotify don’t understand that Spotify has an Ai DJ and a WAY better algorithm than Apple Music. Spotify gives me 6 new playlists every week. And there’s audiobooks on there. All in one.\n",
      "@Spotify @SpotifyCares @AppleMusic I do love the AI DJ so much though, always on a good buzz with me…  https://t.co/Hwd8v9o0T1 does @AppleMusic have a DJ?\n",
      "@doulbedoink Not to mention the automix that’s coming in ios26, I’m testing it on my ipad and it’s insane how well it works. It’s not just crossfade that spotify has and there’s no annoying ai dj too. Dolby atmos sounds divine and the AM student plan is cheaper than spotify in my country🙏\n"
     ]
    }
   ],
   "source": [
    "for tweet in tweets_final.data:\n",
    "    print(tweet.text)\n"
   ]
  },
  {
   "cell_type": "code",
   "execution_count": 7,
   "id": "82fd6c14",
   "metadata": {},
   "outputs": [
    {
     "name": "stdout",
     "output_type": "stream",
     "text": [
      "Saved raw tweets_final as pickle\n"
     ]
    }
   ],
   "source": [
    "with open(\"tweets_final.pkl\", \"wb\") as f:\n",
    "    pickle.dump(tweets_final, f)\n",
    "\n",
    "print(\"Saved raw tweets_final as pickle\")\n"
   ]
  },
  {
   "cell_type": "markdown",
   "id": "e39e587d",
   "metadata": {},
   "source": [
    "### EDA\n"
   ]
  },
  {
   "cell_type": "markdown",
   "id": "b52b8a88",
   "metadata": {},
   "source": []
  },
  {
   "cell_type": "code",
   "execution_count": 22,
   "id": "fa278468",
   "metadata": {},
   "outputs": [],
   "source": [
    "# Use the same query that worked well\n",
    "tweets_available = client2.search_recent_tweets(\n",
    "    query='Spotify \"AI DJ\" -#ai -#dj -is:retweet lang:en',\n",
    "    max_results=47,\n",
    "    tweet_fields=[\n",
    "        \"created_at\",\n",
    "        \"public_metrics\",\n",
    "        \"author_id\",\n",
    "        \"lang\",\n",
    "        \"context_annotations\",\n",
    "        \"referenced_tweets\",\n",
    "    ],\n",
    ")\n"
   ]
  },
  {
   "cell_type": "code",
   "execution_count": 23,
   "id": "3b5ee7a9",
   "metadata": {},
   "outputs": [
    {
     "data": {
      "text/plain": [
       "47"
      ]
     },
     "execution_count": 23,
     "metadata": {},
     "output_type": "execute_result"
    }
   ],
   "source": [
    "len(tweets_available.data)\n"
   ]
  },
  {
   "cell_type": "code",
   "execution_count": 24,
   "id": "cb590d3b",
   "metadata": {},
   "outputs": [
    {
     "name": "stdout",
     "output_type": "stream",
     "text": [
      "1. This playlist gives Spotify AI DJ💀💀...\n",
      "2. The Spotify AI DJ randomly played this today....it's a sign!\n",
      "#AJLee #Wrestlepalooza #Smackdown #WWER...\n",
      "3. @g0dbr34th3d Your playlist is amazing for real.\n",
      "\n",
      "Would recommend his playlist for reading, working a...\n",
      "4. Makes sense that this is why the Spotify AI DJ is garbage. https://t.co/j2LUnUoR9X...\n",
      "5. I’ve only just discovered Spotify AI Dj.....\n"
     ]
    }
   ],
   "source": [
    "for i, tweet in enumerate(tweets_available.data[:5]):\n",
    "    print(f\"{i + 1}. {tweet.text[:100]}...\")\n"
   ]
  },
  {
   "cell_type": "code",
   "execution_count": 26,
   "id": "7a83d9c8",
   "metadata": {},
   "outputs": [
    {
     "name": "stdout",
     "output_type": "stream",
     "text": [
      "Tweet object type: <class 'tweepy.tweet.Tweet'>\n",
      "Available attributes: ['__abstractmethods__', '__class__', '__class_getitem__', '__contains__', '__delattr__', '__dir__', '__doc__', '__eq__', '__format__', '__ge__', '__getattr__', '__getattribute__', '__getitem__', '__getstate__', '__gt__', '__hash__', '__init__', '__init_subclass__', '__iter__', '__le__', '__len__', '__lt__', '__module__', '__ne__', '__new__', '__reduce__', '__reduce_ex__', '__repr__', '__reversed__', '__setattr__', '__sizeof__', '__slots__', '__str__', '__subclasshook__', '_abc_impl', 'attachments', 'author_id', 'context_annotations', 'conversation_id', 'created_at', 'data', 'edit_controls', 'edit_history_tweet_ids', 'entities', 'geo', 'get', 'id', 'in_reply_to_user_id', 'items', 'keys', 'lang', 'non_public_metrics', 'organic_metrics', 'possibly_sensitive', 'promoted_metrics', 'public_metrics', 'referenced_tweets', 'reply_settings', 'source', 'text', 'values', 'withheld']\n"
     ]
    }
   ],
   "source": [
    "# Explore tweet object structure\n",
    "first_tweet = tweets_available.data[0]\n",
    "print(\"Tweet object type:\", type(first_tweet))\n",
    "print(\"Available attributes:\", dir(first_tweet))\n"
   ]
  },
  {
   "cell_type": "code",
   "execution_count": 29,
   "id": "2bd7ac08",
   "metadata": {},
   "outputs": [
    {
     "name": "stdout",
     "output_type": "stream",
     "text": [
      "Tweet ID: 1963699578370220543\n",
      "Created at: 2025-09-04 20:23:57+00:00\n",
      "Text: This playlist gives Spotify AI DJ💀💀 [truncated]\n",
      "Author ID: 4913255457\n",
      "Language: en\n"
     ]
    }
   ],
   "source": [
    "# Check what data fields we have\n",
    "print(\"Tweet ID:\", first_tweet.id)\n",
    "print(\"Created at:\", first_tweet.created_at)\n",
    "print(\"Text:\", first_tweet.text[:160] + \" [truncated]\")\n",
    "print(\"Author ID:\", first_tweet.author_id)\n",
    "print(\"Language:\", first_tweet.lang)\n"
   ]
  },
  {
   "cell_type": "code",
   "execution_count": 30,
   "id": "ae1ade08",
   "metadata": {},
   "outputs": [
    {
     "name": "stdout",
     "output_type": "stream",
     "text": [
      "Public metrics: {'retweet_count': 0, 'reply_count': 0, 'like_count': 0, 'quote_count': 0, 'bookmark_count': 0, 'impression_count': 493}\n",
      "Like count: 0\n",
      "Retweet count: 0\n"
     ]
    }
   ],
   "source": [
    "# Check public metrics\n",
    "print(\"Public metrics:\", first_tweet.public_metrics)\n",
    "print(\"Like count:\", first_tweet.public_metrics[\"like_count\"])\n",
    "print(\"Retweet count:\", first_tweet.public_metrics[\"retweet_count\"])\n"
   ]
  },
  {
   "cell_type": "code",
   "execution_count": 31,
   "id": "5948a5b2",
   "metadata": {},
   "outputs": [
    {
     "name": "stdout",
     "output_type": "stream",
     "text": [
      "Context annotations: [{'domain': {'id': '45', 'name': 'Brand Vertical', 'description': 'Top level entities that describe a Brands industry'}, 'entity': {'id': '781974597310615553', 'name': 'Entertainment'}}, {'domain': {'id': '30', 'name': 'Entities [Entity Service]', 'description': 'Entity Service top level domain, every item that is in Entity Service should be in this domain'}, 'entity': {'id': '781974597222535168', 'name': 'Online Services - Entertainment'}}]\n"
     ]
    }
   ],
   "source": [
    "# Check context annotations (if available)\n",
    "if hasattr(first_tweet, \"context_annotations\") and first_tweet.context_annotations:\n",
    "    print(\"Context annotations:\", first_tweet.context_annotations[:2])\n",
    "else:\n",
    "    print(\"No context annotations available\")\n"
   ]
  },
  {
   "cell_type": "code",
   "execution_count": null,
   "id": "6bb043ba",
   "metadata": {},
   "outputs": [],
   "source": []
  },
  {
   "cell_type": "code",
   "execution_count": 32,
   "id": "e8dbdac0",
   "metadata": {},
   "outputs": [
    {
     "data": {
      "text/plain": [
       "47"
      ]
     },
     "execution_count": 32,
     "metadata": {},
     "output_type": "execute_result"
    }
   ],
   "source": [
    "# Check data we collected\n",
    "len(tweets_available.data)\n"
   ]
  },
  {
   "cell_type": "code",
   "execution_count": 33,
   "id": "1c25e735",
   "metadata": {},
   "outputs": [],
   "source": [
    "# Convert tweets to simple structure\n",
    "tweets_list = []\n",
    "for tweet in tweets_available.data:\n",
    "    tweets_list.append(\n",
    "        {\n",
    "            \"id\": tweet.id,\n",
    "            \"text\": tweet.text,\n",
    "            \"author_id\": tweet.author_id,\n",
    "            \"created_at\": tweet.created_at,\n",
    "            \"likes\": tweet.public_metrics[\"like_count\"],\n",
    "            \"retweets\": tweet.public_metrics[\"retweet_count\"],\n",
    "            \"replies\": tweet.public_metrics[\"reply_count\"],\n",
    "        }\n",
    "    )\n"
   ]
  },
  {
   "cell_type": "code",
   "execution_count": 34,
   "id": "6cbdb68a",
   "metadata": {},
   "outputs": [
    {
     "data": {
      "text/plain": [
       "(47, 7)"
      ]
     },
     "execution_count": 34,
     "metadata": {},
     "output_type": "execute_result"
    }
   ],
   "source": [
    "# Create DataFrame\n",
    "df = pd.DataFrame(tweets_list)\n",
    "df.shape\n"
   ]
  },
  {
   "cell_type": "code",
   "execution_count": 35,
   "id": "8982d5bb",
   "metadata": {},
   "outputs": [
    {
     "data": {
      "text/html": [
       "<div>\n",
       "<style scoped>\n",
       "    .dataframe tbody tr th:only-of-type {\n",
       "        vertical-align: middle;\n",
       "    }\n",
       "\n",
       "    .dataframe tbody tr th {\n",
       "        vertical-align: top;\n",
       "    }\n",
       "\n",
       "    .dataframe thead th {\n",
       "        text-align: right;\n",
       "    }\n",
       "</style>\n",
       "<table border=\"1\" class=\"dataframe\">\n",
       "  <thead>\n",
       "    <tr style=\"text-align: right;\">\n",
       "      <th></th>\n",
       "      <th>id</th>\n",
       "      <th>text</th>\n",
       "      <th>author_id</th>\n",
       "      <th>created_at</th>\n",
       "      <th>likes</th>\n",
       "      <th>retweets</th>\n",
       "      <th>replies</th>\n",
       "    </tr>\n",
       "  </thead>\n",
       "  <tbody>\n",
       "    <tr>\n",
       "      <th>0</th>\n",
       "      <td>1963699578370220543</td>\n",
       "      <td>This playlist gives Spotify AI DJ💀💀</td>\n",
       "      <td>4913255457</td>\n",
       "      <td>2025-09-04 20:23:57+00:00</td>\n",
       "      <td>0</td>\n",
       "      <td>0</td>\n",
       "      <td>0</td>\n",
       "    </tr>\n",
       "    <tr>\n",
       "      <th>1</th>\n",
       "      <td>1963692075439849536</td>\n",
       "      <td>The Spotify AI DJ randomly played this today.....</td>\n",
       "      <td>60245577</td>\n",
       "      <td>2025-09-04 19:54:09+00:00</td>\n",
       "      <td>0</td>\n",
       "      <td>0</td>\n",
       "      <td>0</td>\n",
       "    </tr>\n",
       "    <tr>\n",
       "      <th>2</th>\n",
       "      <td>1963646985556103628</td>\n",
       "      <td>@g0dbr34th3d Your playlist is amazing for real...</td>\n",
       "      <td>1495824184638906368</td>\n",
       "      <td>2025-09-04 16:54:58+00:00</td>\n",
       "      <td>0</td>\n",
       "      <td>0</td>\n",
       "      <td>0</td>\n",
       "    </tr>\n",
       "    <tr>\n",
       "      <th>3</th>\n",
       "      <td>1963624836846023034</td>\n",
       "      <td>Makes sense that this is why the Spotify AI DJ...</td>\n",
       "      <td>261881081</td>\n",
       "      <td>2025-09-04 15:26:58+00:00</td>\n",
       "      <td>6</td>\n",
       "      <td>1</td>\n",
       "      <td>1</td>\n",
       "    </tr>\n",
       "    <tr>\n",
       "      <th>4</th>\n",
       "      <td>1963616655533093015</td>\n",
       "      <td>I’ve only just discovered Spotify AI Dj..</td>\n",
       "      <td>33827542</td>\n",
       "      <td>2025-09-04 14:54:27+00:00</td>\n",
       "      <td>1</td>\n",
       "      <td>0</td>\n",
       "      <td>0</td>\n",
       "    </tr>\n",
       "  </tbody>\n",
       "</table>\n",
       "</div>"
      ],
      "text/plain": [
       "                    id                                               text  \\\n",
       "0  1963699578370220543                This playlist gives Spotify AI DJ💀💀   \n",
       "1  1963692075439849536  The Spotify AI DJ randomly played this today.....   \n",
       "2  1963646985556103628  @g0dbr34th3d Your playlist is amazing for real...   \n",
       "3  1963624836846023034  Makes sense that this is why the Spotify AI DJ...   \n",
       "4  1963616655533093015          I’ve only just discovered Spotify AI Dj..   \n",
       "\n",
       "             author_id                created_at  likes  retweets  replies  \n",
       "0           4913255457 2025-09-04 20:23:57+00:00      0         0        0  \n",
       "1             60245577 2025-09-04 19:54:09+00:00      0         0        0  \n",
       "2  1495824184638906368 2025-09-04 16:54:58+00:00      0         0        0  \n",
       "3            261881081 2025-09-04 15:26:58+00:00      6         1        1  \n",
       "4             33827542 2025-09-04 14:54:27+00:00      1         0        0  "
      ]
     },
     "execution_count": 35,
     "metadata": {},
     "output_type": "execute_result"
    }
   ],
   "source": [
    "# Quick overview\n",
    "df.head()\n"
   ]
  },
  {
   "cell_type": "code",
   "execution_count": 36,
   "id": "a81b8de1",
   "metadata": {},
   "outputs": [],
   "source": [
    "# Save to CSV\n",
    "df.to_csv(\"spotify_ai_dj_tweets.csv\", index=False)\n"
   ]
  },
  {
   "cell_type": "code",
   "execution_count": null,
   "id": "9530cff4",
   "metadata": {},
   "outputs": [],
   "source": [
    "# Test reading the CSV back\n",
    "df_test = pd.read_csv(\"spotify_ai_dj_tweets.csv\")\n",
    "df_test.shape\n"
   ]
  },
  {
   "cell_type": "code",
   "execution_count": null,
   "id": "08d3f902",
   "metadata": {},
   "outputs": [],
   "source": []
  }
 ],
 "metadata": {
  "kernelspec": {
   "display_name": ".venv",
   "language": "python",
   "name": "python3"
  },
  "language_info": {
   "codemirror_mode": {
    "name": "ipython",
    "version": 3
   },
   "file_extension": ".py",
   "mimetype": "text/x-python",
   "name": "python",
   "nbconvert_exporter": "python",
   "pygments_lexer": "ipython3",
   "version": "3.12.2"
  }
 },
 "nbformat": 4,
 "nbformat_minor": 5
}
