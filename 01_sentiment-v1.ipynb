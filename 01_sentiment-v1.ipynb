{
 "cells": [
  {
   "cell_type": "code",
   "execution_count": null,
   "id": "4c1b0eef",
   "metadata": {},
   "outputs": [],
   "source": [
    "import pandas as pd\n",
    "import torch\n",
    "from transformers import pipeline\n"
   ]
  },
  {
   "cell_type": "markdown",
   "id": "bdc58a55",
   "metadata": {},
   "source": [
    "## Test HuggingFace call\n"
   ]
  },
  {
   "cell_type": "code",
   "execution_count": null,
   "id": "36ff927f",
   "metadata": {},
   "outputs": [],
   "source": [
    "# sentiment_test = pipeline(\n",
    "#    \"sentiment-analysis\", model=\"cardiffnlp/twitter-roberta-base-sentiment-latest\")"
   ]
  },
  {
   "cell_type": "code",
   "execution_count": null,
   "id": "40ffa381",
   "metadata": {},
   "outputs": [],
   "source": [
    "# response = sentiment_test(\n",
    "#    \"I think my Spotify AI dj is learning that I'm autistic and only like listening to the songs I already have on my playlist\"\n",
    "# )"
   ]
  },
  {
   "cell_type": "code",
   "execution_count": null,
   "id": "ba9d1733",
   "metadata": {},
   "outputs": [],
   "source": [
    "# response"
   ]
  },
  {
   "cell_type": "markdown",
   "id": "543eaa6a",
   "metadata": {},
   "source": [
    "## Sentiment Analysis on collected tweets\n"
   ]
  },
  {
   "cell_type": "code",
   "execution_count": null,
   "id": "a0e3a3ea",
   "metadata": {},
   "outputs": [],
   "source": [
    "tweets = pd.read_csv(\"data/spotify_ai_dj_tweets_clean.csv\")\n",
    "tweets.head()"
   ]
  },
  {
   "cell_type": "code",
   "execution_count": null,
   "id": "f17ea3a9",
   "metadata": {},
   "outputs": [],
   "source": [
    "# Run sentiment analysis on the 'text_clean' column using the classifier and device selection above\n",
    "\n",
    "\n",
    "# Only consider cuda or cpu, ignore mps\n",
    "\n",
    "\n",
    "device = \"cuda\" if torch.cuda.is_available() else \"cpu\"\n",
    "\n",
    "if device == \"cuda\":\n",
    "    classifier = pipeline(\n",
    "        \"sentiment-analysis\",\n",
    "        model=\"cardiffnlp/twitter-roberta-base-sentiment-latest\",\n",
    "        device=0,\n",
    "    )\n",
    "else:\n",
    "    classifier = pipeline(\n",
    "        \"sentiment-analysis\",\n",
    "        model=\"cardiffnlp/twitter-roberta-base-sentiment-latest\",\n",
    "        device=-1,\n",
    "    )\n",
    "\n",
    "\n",
    "# Get both sentiment and confidence (score) for each tweet\n",
    "def get_sentiment_and_confidence(text):\n",
    "    result = classifier(text)[0]\n",
    "    return pd.Series({\"sentiment\": result[\"label\"], \"confidence\": result[\"score\"]})\n",
    "\n",
    "\n",
    "tweets[[\"sentiment\", \"confidence\"]] = tweets[\"text_clean\"].apply(\n",
    "    get_sentiment_and_confidence\n",
    ")\n",
    "tweets.head()\n"
   ]
  },
  {
   "cell_type": "code",
   "execution_count": null,
   "id": "c1c67d4d",
   "metadata": {},
   "outputs": [],
   "source": []
  }
 ],
 "metadata": {
  "kernelspec": {
   "display_name": ".venv",
   "language": "python",
   "name": "python3"
  },
  "language_info": {
   "codemirror_mode": {
    "name": "ipython",
    "version": 3
   },
   "file_extension": ".py",
   "mimetype": "text/x-python",
   "name": "python",
   "nbconvert_exporter": "python",
   "pygments_lexer": "ipython3",
   "version": "3.12.2"
  }
 },
 "nbformat": 4,
 "nbformat_minor": 5
}
