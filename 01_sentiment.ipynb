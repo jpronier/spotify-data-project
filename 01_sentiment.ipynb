{
 "cells": [
  {
   "cell_type": "code",
   "execution_count": 1,
   "id": "4c1b0eef",
   "metadata": {},
   "outputs": [
    {
     "name": "stderr",
     "output_type": "stream",
     "text": [
      "/Users/Juliepronier/Documents/02. Work/03. Search and Interviews/spotify-data-project/.venv/lib/python3.12/site-packages/tqdm/auto.py:21: TqdmWarning: IProgress not found. Please update jupyter and ipywidgets. See https://ipywidgets.readthedocs.io/en/stable/user_install.html\n",
      "  from .autonotebook import tqdm as notebook_tqdm\n"
     ]
    }
   ],
   "source": [
    "import pandas as pd\n",
    "import torch\n",
    "from transformers import pipeline\n"
   ]
  },
  {
   "cell_type": "markdown",
   "id": "bdc58a55",
   "metadata": {},
   "source": [
    "## Test HuggingFace call\n"
   ]
  },
  {
   "cell_type": "code",
   "execution_count": null,
   "id": "36ff927f",
   "metadata": {},
   "outputs": [],
   "source": [
    "# sentiment_test = pipeline(\n",
    "#    \"sentiment-analysis\", model=\"cardiffnlp/twitter-roberta-base-sentiment-latest\")"
   ]
  },
  {
   "cell_type": "code",
   "execution_count": null,
   "id": "40ffa381",
   "metadata": {},
   "outputs": [],
   "source": [
    "# response = sentiment_test(\n",
    "#    \"I think my Spotify AI dj is learning that I'm autistic and only like listening to the songs I already have on my playlist\"\n",
    "# )"
   ]
  },
  {
   "cell_type": "code",
   "execution_count": null,
   "id": "ba9d1733",
   "metadata": {},
   "outputs": [],
   "source": [
    "# response"
   ]
  },
  {
   "cell_type": "markdown",
   "id": "543eaa6a",
   "metadata": {},
   "source": [
    "## Sentiment Analysis on collected tweets\n"
   ]
  },
  {
   "cell_type": "code",
   "execution_count": 2,
   "id": "a0e3a3ea",
   "metadata": {},
   "outputs": [
    {
     "data": {
      "text/html": [
       "<div>\n",
       "<style scoped>\n",
       "    .dataframe tbody tr th:only-of-type {\n",
       "        vertical-align: middle;\n",
       "    }\n",
       "\n",
       "    .dataframe tbody tr th {\n",
       "        vertical-align: top;\n",
       "    }\n",
       "\n",
       "    .dataframe thead th {\n",
       "        text-align: right;\n",
       "    }\n",
       "</style>\n",
       "<table border=\"1\" class=\"dataframe\">\n",
       "  <thead>\n",
       "    <tr style=\"text-align: right;\">\n",
       "      <th></th>\n",
       "      <th>id</th>\n",
       "      <th>text</th>\n",
       "      <th>author_id</th>\n",
       "      <th>created_at</th>\n",
       "      <th>likes</th>\n",
       "      <th>retweets</th>\n",
       "      <th>replies</th>\n",
       "      <th>text_clean</th>\n",
       "      <th>text_length</th>\n",
       "    </tr>\n",
       "  </thead>\n",
       "  <tbody>\n",
       "    <tr>\n",
       "      <th>0</th>\n",
       "      <td>1961358481375518801</td>\n",
       "      <td>@Spotify, can your AI DJ please stop sucking u...</td>\n",
       "      <td>1310212024253775872</td>\n",
       "      <td>2025-08-29 09:21:16+00:00</td>\n",
       "      <td>1</td>\n",
       "      <td>0</td>\n",
       "      <td>1</td>\n",
       "      <td>@user can your AI DJ please stop sucking up to...</td>\n",
       "      <td>142</td>\n",
       "    </tr>\n",
       "    <tr>\n",
       "      <th>1</th>\n",
       "      <td>1961360088419205571</td>\n",
       "      <td>@realfancy225 @Spotify @JonahKagen @ThisIsRobT...</td>\n",
       "      <td>1720665183188922368</td>\n",
       "      <td>2025-08-29 09:27:40+00:00</td>\n",
       "      <td>0</td>\n",
       "      <td>0</td>\n",
       "      <td>0</td>\n",
       "      <td>@user @user @user @user Totally agree—Spotify'...</td>\n",
       "      <td>262</td>\n",
       "    </tr>\n",
       "    <tr>\n",
       "      <th>2</th>\n",
       "      <td>1961387792279429319</td>\n",
       "      <td>@jaidenodavis @snseics1999 weird it’s exactly ...</td>\n",
       "      <td>1433597023576420365</td>\n",
       "      <td>2025-08-29 11:17:45+00:00</td>\n",
       "      <td>6</td>\n",
       "      <td>0</td>\n",
       "      <td>0</td>\n",
       "      <td>@user @user weird it’s exactly the “look” that...</td>\n",
       "      <td>305</td>\n",
       "    </tr>\n",
       "    <tr>\n",
       "      <th>3</th>\n",
       "      <td>1961390483772514589</td>\n",
       "      <td>🎧🤖 Meet your new AI DJ on Spotify — spinning t...</td>\n",
       "      <td>1936411644998893568</td>\n",
       "      <td>2025-08-29 11:28:26+00:00</td>\n",
       "      <td>0</td>\n",
       "      <td>0</td>\n",
       "      <td>0</td>\n",
       "      <td>🎧🤖 Meet your new AI DJ on Spotify — spinning t...</td>\n",
       "      <td>220</td>\n",
       "    </tr>\n",
       "    <tr>\n",
       "      <th>4</th>\n",
       "      <td>1961449992477970463</td>\n",
       "      <td>having the Spotify Ai DJ say my name to feel s...</td>\n",
       "      <td>747967587888271360</td>\n",
       "      <td>2025-08-29 15:24:54+00:00</td>\n",
       "      <td>1</td>\n",
       "      <td>0</td>\n",
       "      <td>1</td>\n",
       "      <td>having the Spotify Ai DJ say my name to feel s...</td>\n",
       "      <td>54</td>\n",
       "    </tr>\n",
       "  </tbody>\n",
       "</table>\n",
       "</div>"
      ],
      "text/plain": [
       "                    id                                               text  \\\n",
       "0  1961358481375518801  @Spotify, can your AI DJ please stop sucking u...   \n",
       "1  1961360088419205571  @realfancy225 @Spotify @JonahKagen @ThisIsRobT...   \n",
       "2  1961387792279429319  @jaidenodavis @snseics1999 weird it’s exactly ...   \n",
       "3  1961390483772514589  🎧🤖 Meet your new AI DJ on Spotify — spinning t...   \n",
       "4  1961449992477970463  having the Spotify Ai DJ say my name to feel s...   \n",
       "\n",
       "             author_id                 created_at  likes  retweets  replies  \\\n",
       "0  1310212024253775872  2025-08-29 09:21:16+00:00      1         0        1   \n",
       "1  1720665183188922368  2025-08-29 09:27:40+00:00      0         0        0   \n",
       "2  1433597023576420365  2025-08-29 11:17:45+00:00      6         0        0   \n",
       "3  1936411644998893568  2025-08-29 11:28:26+00:00      0         0        0   \n",
       "4   747967587888271360  2025-08-29 15:24:54+00:00      1         0        1   \n",
       "\n",
       "                                          text_clean  text_length  \n",
       "0  @user can your AI DJ please stop sucking up to...          142  \n",
       "1  @user @user @user @user Totally agree—Spotify'...          262  \n",
       "2  @user @user weird it’s exactly the “look” that...          305  \n",
       "3  🎧🤖 Meet your new AI DJ on Spotify — spinning t...          220  \n",
       "4  having the Spotify Ai DJ say my name to feel s...           54  "
      ]
     },
     "execution_count": 2,
     "metadata": {},
     "output_type": "execute_result"
    }
   ],
   "source": [
    "tweets = pd.read_csv(\"data/spotify_ai_dj_all_tweets.csv\")\n",
    "tweets.head()"
   ]
  },
  {
   "cell_type": "code",
   "execution_count": 3,
   "id": "01faa6d9",
   "metadata": {},
   "outputs": [
    {
     "data": {
      "text/plain": [
       "(144, 9)"
      ]
     },
     "execution_count": 3,
     "metadata": {},
     "output_type": "execute_result"
    }
   ],
   "source": [
    "tweets.shape\n"
   ]
  },
  {
   "cell_type": "code",
   "execution_count": 4,
   "id": "f17ea3a9",
   "metadata": {},
   "outputs": [
    {
     "name": "stderr",
     "output_type": "stream",
     "text": [
      "Some weights of the model checkpoint at cardiffnlp/twitter-roberta-base-sentiment-latest were not used when initializing RobertaForSequenceClassification: ['roberta.pooler.dense.bias', 'roberta.pooler.dense.weight']\n",
      "- This IS expected if you are initializing RobertaForSequenceClassification from the checkpoint of a model trained on another task or with another architecture (e.g. initializing a BertForSequenceClassification model from a BertForPreTraining model).\n",
      "- This IS NOT expected if you are initializing RobertaForSequenceClassification from the checkpoint of a model that you expect to be exactly identical (initializing a BertForSequenceClassification model from a BertForSequenceClassification model).\n",
      "Device set to use cpu\n"
     ]
    },
    {
     "data": {
      "text/html": [
       "<div>\n",
       "<style scoped>\n",
       "    .dataframe tbody tr th:only-of-type {\n",
       "        vertical-align: middle;\n",
       "    }\n",
       "\n",
       "    .dataframe tbody tr th {\n",
       "        vertical-align: top;\n",
       "    }\n",
       "\n",
       "    .dataframe thead th {\n",
       "        text-align: right;\n",
       "    }\n",
       "</style>\n",
       "<table border=\"1\" class=\"dataframe\">\n",
       "  <thead>\n",
       "    <tr style=\"text-align: right;\">\n",
       "      <th></th>\n",
       "      <th>id</th>\n",
       "      <th>text</th>\n",
       "      <th>author_id</th>\n",
       "      <th>created_at</th>\n",
       "      <th>likes</th>\n",
       "      <th>retweets</th>\n",
       "      <th>replies</th>\n",
       "      <th>text_clean</th>\n",
       "      <th>text_length</th>\n",
       "      <th>sentiment</th>\n",
       "      <th>confidence</th>\n",
       "    </tr>\n",
       "  </thead>\n",
       "  <tbody>\n",
       "    <tr>\n",
       "      <th>0</th>\n",
       "      <td>1961358481375518801</td>\n",
       "      <td>@Spotify, can your AI DJ please stop sucking u...</td>\n",
       "      <td>1310212024253775872</td>\n",
       "      <td>2025-08-29 09:21:16+00:00</td>\n",
       "      <td>1</td>\n",
       "      <td>0</td>\n",
       "      <td>1</td>\n",
       "      <td>@user can your AI DJ please stop sucking up to...</td>\n",
       "      <td>142</td>\n",
       "      <td>negative</td>\n",
       "      <td>0.906410</td>\n",
       "    </tr>\n",
       "    <tr>\n",
       "      <th>1</th>\n",
       "      <td>1961360088419205571</td>\n",
       "      <td>@realfancy225 @Spotify @JonahKagen @ThisIsRobT...</td>\n",
       "      <td>1720665183188922368</td>\n",
       "      <td>2025-08-29 09:27:40+00:00</td>\n",
       "      <td>0</td>\n",
       "      <td>0</td>\n",
       "      <td>0</td>\n",
       "      <td>@user @user @user @user Totally agree—Spotify'...</td>\n",
       "      <td>262</td>\n",
       "      <td>positive</td>\n",
       "      <td>0.923209</td>\n",
       "    </tr>\n",
       "    <tr>\n",
       "      <th>2</th>\n",
       "      <td>1961387792279429319</td>\n",
       "      <td>@jaidenodavis @snseics1999 weird it’s exactly ...</td>\n",
       "      <td>1433597023576420365</td>\n",
       "      <td>2025-08-29 11:17:45+00:00</td>\n",
       "      <td>6</td>\n",
       "      <td>0</td>\n",
       "      <td>0</td>\n",
       "      <td>@user @user weird it’s exactly the “look” that...</td>\n",
       "      <td>305</td>\n",
       "      <td>negative</td>\n",
       "      <td>0.827388</td>\n",
       "    </tr>\n",
       "    <tr>\n",
       "      <th>3</th>\n",
       "      <td>1961390483772514589</td>\n",
       "      <td>🎧🤖 Meet your new AI DJ on Spotify — spinning t...</td>\n",
       "      <td>1936411644998893568</td>\n",
       "      <td>2025-08-29 11:28:26+00:00</td>\n",
       "      <td>0</td>\n",
       "      <td>0</td>\n",
       "      <td>0</td>\n",
       "      <td>🎧🤖 Meet your new AI DJ on Spotify — spinning t...</td>\n",
       "      <td>220</td>\n",
       "      <td>positive</td>\n",
       "      <td>0.862370</td>\n",
       "    </tr>\n",
       "    <tr>\n",
       "      <th>4</th>\n",
       "      <td>1961449992477970463</td>\n",
       "      <td>having the Spotify Ai DJ say my name to feel s...</td>\n",
       "      <td>747967587888271360</td>\n",
       "      <td>2025-08-29 15:24:54+00:00</td>\n",
       "      <td>1</td>\n",
       "      <td>0</td>\n",
       "      <td>1</td>\n",
       "      <td>having the Spotify Ai DJ say my name to feel s...</td>\n",
       "      <td>54</td>\n",
       "      <td>neutral</td>\n",
       "      <td>0.794417</td>\n",
       "    </tr>\n",
       "  </tbody>\n",
       "</table>\n",
       "</div>"
      ],
      "text/plain": [
       "                    id                                               text  \\\n",
       "0  1961358481375518801  @Spotify, can your AI DJ please stop sucking u...   \n",
       "1  1961360088419205571  @realfancy225 @Spotify @JonahKagen @ThisIsRobT...   \n",
       "2  1961387792279429319  @jaidenodavis @snseics1999 weird it’s exactly ...   \n",
       "3  1961390483772514589  🎧🤖 Meet your new AI DJ on Spotify — spinning t...   \n",
       "4  1961449992477970463  having the Spotify Ai DJ say my name to feel s...   \n",
       "\n",
       "             author_id                 created_at  likes  retweets  replies  \\\n",
       "0  1310212024253775872  2025-08-29 09:21:16+00:00      1         0        1   \n",
       "1  1720665183188922368  2025-08-29 09:27:40+00:00      0         0        0   \n",
       "2  1433597023576420365  2025-08-29 11:17:45+00:00      6         0        0   \n",
       "3  1936411644998893568  2025-08-29 11:28:26+00:00      0         0        0   \n",
       "4   747967587888271360  2025-08-29 15:24:54+00:00      1         0        1   \n",
       "\n",
       "                                          text_clean  text_length sentiment  \\\n",
       "0  @user can your AI DJ please stop sucking up to...          142  negative   \n",
       "1  @user @user @user @user Totally agree—Spotify'...          262  positive   \n",
       "2  @user @user weird it’s exactly the “look” that...          305  negative   \n",
       "3  🎧🤖 Meet your new AI DJ on Spotify — spinning t...          220  positive   \n",
       "4  having the Spotify Ai DJ say my name to feel s...           54   neutral   \n",
       "\n",
       "   confidence  \n",
       "0    0.906410  \n",
       "1    0.923209  \n",
       "2    0.827388  \n",
       "3    0.862370  \n",
       "4    0.794417  "
      ]
     },
     "execution_count": 4,
     "metadata": {},
     "output_type": "execute_result"
    }
   ],
   "source": [
    "# Run sentiment analysis on the 'text_clean' column using the classifier and device selection above\n",
    "\n",
    "\n",
    "# Only consider cuda or cpu, ignore mps\n",
    "\n",
    "\n",
    "device = \"cuda\" if torch.cuda.is_available() else \"cpu\"\n",
    "\n",
    "if device == \"cuda\":\n",
    "    classifier = pipeline(\n",
    "        \"sentiment-analysis\",\n",
    "        model=\"cardiffnlp/twitter-roberta-base-sentiment-latest\",\n",
    "        device=0,\n",
    "    )\n",
    "else:\n",
    "    classifier = pipeline(\n",
    "        \"sentiment-analysis\",\n",
    "        model=\"cardiffnlp/twitter-roberta-base-sentiment-latest\",\n",
    "        device=-1,\n",
    "    )\n",
    "\n",
    "\n",
    "# Get both sentiment and confidence (score) for each tweet\n",
    "def get_sentiment_and_confidence(text):\n",
    "    result = classifier(text)[0]\n",
    "    return pd.Series({\"sentiment\": result[\"label\"], \"confidence\": result[\"score\"]})\n",
    "\n",
    "\n",
    "tweets[[\"sentiment\", \"confidence\"]] = tweets[\"text_clean\"].apply(\n",
    "    get_sentiment_and_confidence\n",
    ")\n",
    "tweets.head()\n"
   ]
  },
  {
   "cell_type": "code",
   "execution_count": 5,
   "id": "c1c67d4d",
   "metadata": {},
   "outputs": [
    {
     "data": {
      "text/plain": [
       "sentiment\n",
       "neutral     59\n",
       "positive    54\n",
       "negative    31\n",
       "Name: count, dtype: int64"
      ]
     },
     "execution_count": 5,
     "metadata": {},
     "output_type": "execute_result"
    }
   ],
   "source": [
    "tweets.sentiment.value_counts()"
   ]
  },
  {
   "cell_type": "code",
   "execution_count": 7,
   "id": "94b0fd80",
   "metadata": {},
   "outputs": [],
   "source": [
    "tweets.to_csv(\"data/processed/tweets_with_sentiment.csv\", index=False)\n"
   ]
  },
  {
   "cell_type": "code",
   "execution_count": null,
   "id": "933ddde2",
   "metadata": {},
   "outputs": [],
   "source": []
  }
 ],
 "metadata": {
  "kernelspec": {
   "display_name": ".venv",
   "language": "python",
   "name": "python3"
  },
  "language_info": {
   "codemirror_mode": {
    "name": "ipython",
    "version": 3
   },
   "file_extension": ".py",
   "mimetype": "text/x-python",
   "name": "python",
   "nbconvert_exporter": "python",
   "pygments_lexer": "ipython3",
   "version": "3.12.2"
  }
 },
 "nbformat": 4,
 "nbformat_minor": 5
}
